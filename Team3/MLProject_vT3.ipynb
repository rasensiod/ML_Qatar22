{
 "cells": [
  {
   "cell_type": "markdown",
   "metadata": {
    "collapsed": true
   },
   "source": [
    "# BENG0095 Project\n",
    "\n",
    "## Introduction [CHANGE]\n",
    "\n",
    "In this notebook we will explore various binary classification algortihms, including Linear Discriminant Analysis (LDA), Quadratic Discriminant Analysis (QDA), Logistic Regression, and Naive Bayes. \n",
    "\n",
    "We will apply these algorithms to one toy data set, and two real-world datasets: the Pima Indians Diabetes data set; and the Wisconsin Diagnostic Breast Cancer data set. \n",
    "\n",
    "We will evaluate performances using three metrics: Classifcation Accuracy, the Receiver Operating Characteristic, and Precision/Recall scores."
   ]
  },
  {
   "cell_type": "markdown",
   "metadata": {},
   "source": [
    "## Imports\n",
    "\n",
    "We start by importing all relevant packages."
   ]
  },
  {
   "cell_type": "code",
   "execution_count": 1,
   "metadata": {},
   "outputs": [],
   "source": [
    "import numpy as np\n",
    "import matplotlib.pyplot as plt\n",
    "import pandas as pd\n",
    "import datetime as dt\n",
    "\n",
    "from os import chdir\n",
    "from sklearn import svm\n",
    "from sklearn.model_selection import train_test_split\n",
    "from sklearn.preprocessing import StandardScaler, label_binarize\n",
    "\n",
    "# you may need to import sklearn.lda.LDA and sklearn.qda.QDA instead\n",
    "# depending on which version you have installed\n",
    "from sklearn.discriminant_analysis import LinearDiscriminantAnalysis as LDA\n",
    "from sklearn.discriminant_analysis import QuadraticDiscriminantAnalysis as QDA\n",
    "from sklearn.linear_model import LogisticRegression\n",
    "from sklearn.naive_bayes import GaussianNB\n",
    "from sklearn.multiclass import OneVsRestClassifier\n",
    "\n",
    "from sklearn.metrics import accuracy_score, roc_curve, precision_recall_curve, classification_report, ConfusionMatrixDisplay, auc"
   ]
  },
  {
   "cell_type": "markdown",
   "metadata": {},
   "source": [
    "## Test Dataset\n",
    "\n",
    "We start processing the\n",
    "\n",
    "\n",
    "The International Match History Dataset compiles football match results of between national teams between 2004-09-03 and 2021-12-18.\n",
    "\n",
    "The dataset contains data from 5,641 matches with 25 features:\n",
    "\n",
    "1. Date\n",
    "2. Home team (HT)\n",
    "3. Away team (AT)\n",
    "4. HT continent\n",
    "5. AT continent\n",
    "6. HT FIFA rank\n",
    "7. AT FIFA rank\n",
    "8. HT total FIFA points\n",
    "9. AT total FIFA points\n",
    "10. HT score\n",
    "11. AT score\n",
    "12. Tournament\n",
    "13. City\n",
    "14. Country\n",
    "15. Neutral location\n",
    "16. Shoot out\n",
    "17. HT result\n",
    "18. HT goalkeeper score\n",
    "19. AT goalkeeper score\n",
    "20. HT defense score\n",
    "21. HT offense score\n",
    "22. HT midfield score\n",
    "23. AT defense score\n",
    "24. AT offense score\n",
    "25. AT midfield score"
   ]
  },
  {
   "cell_type": "markdown",
   "metadata": {},
   "source": [
    "## International Match History Dataset\n",
    "\n",
    "The International Match History Dataset compiles football match results of between national teams between 2004-09-03 and 2021-12-18.\n",
    "\n",
    "The dataset contains data from 5,641 matches with 25 features:\n",
    "\n",
    "1. Date\n",
    "2. Home team (HT)\n",
    "3. Away team (AT)\n",
    "4. HT continent\n",
    "5. AT continent\n",
    "6. HT FIFA rank\n",
    "7. AT FIFA rank\n",
    "8. HT total FIFA points\n",
    "9. AT total FIFA points\n",
    "10. HT score\n",
    "11. AT score\n",
    "12. Tournament\n",
    "13. City\n",
    "14. Country\n",
    "15. Neutral location\n",
    "16. Shoot out\n",
    "17. HT result\n",
    "18. HT goalkeeper score\n",
    "19. AT goalkeeper score\n",
    "20. HT defense score\n",
    "21. HT offense score\n",
    "22. HT midfield score\n",
    "23. AT defense score\n",
    "24. AT offense score\n",
    "25. AT midfield score"
   ]
  },
  {
   "cell_type": "markdown",
   "metadata": {},
   "source": [
    "### Loading the dataset\n",
    "\n",
    "We first load the dataset and visualise it to understand it better"
   ]
  },
  {
   "cell_type": "code",
   "execution_count": 2,
   "metadata": {},
   "outputs": [],
   "source": [
    "# changing directory to current working directory\n",
    "import os \n",
    "chdir(os.getcwd())\n",
    "\n",
    "# reading raw .csv file\n",
    "data = pd.read_csv('dataset/match_history.csv')\n",
    "\n",
    "# date is imported as string, we change to datetime for easier cleaning\n",
    "data['date'] = pd.to_datetime(data['date']).dt.date"
   ]
  },
  {
   "cell_type": "code",
   "execution_count": 3,
   "metadata": {},
   "outputs": [
    {
     "data": {
      "text/html": [
       "<div>\n",
       "<style scoped>\n",
       "    .dataframe tbody tr th:only-of-type {\n",
       "        vertical-align: middle;\n",
       "    }\n",
       "\n",
       "    .dataframe tbody tr th {\n",
       "        vertical-align: top;\n",
       "    }\n",
       "\n",
       "    .dataframe thead th {\n",
       "        text-align: right;\n",
       "    }\n",
       "</style>\n",
       "<table border=\"1\" class=\"dataframe\">\n",
       "  <thead>\n",
       "    <tr style=\"text-align: right;\">\n",
       "      <th></th>\n",
       "      <th>date</th>\n",
       "      <th>home_team</th>\n",
       "      <th>away_team</th>\n",
       "      <th>home_team_continent</th>\n",
       "      <th>away_team_continent</th>\n",
       "      <th>home_team_fifa_rank</th>\n",
       "      <th>away_team_fifa_rank</th>\n",
       "      <th>home_team_total_fifa_points</th>\n",
       "      <th>away_team_total_fifa_points</th>\n",
       "      <th>home_team_score</th>\n",
       "      <th>...</th>\n",
       "      <th>shoot_out</th>\n",
       "      <th>home_team_result</th>\n",
       "      <th>home_team_goalkeeper_score</th>\n",
       "      <th>away_team_goalkeeper_score</th>\n",
       "      <th>home_team_mean_defense_score</th>\n",
       "      <th>home_team_mean_offense_score</th>\n",
       "      <th>home_team_mean_midfield_score</th>\n",
       "      <th>away_team_mean_defense_score</th>\n",
       "      <th>away_team_mean_offense_score</th>\n",
       "      <th>away_team_mean_midfield_score</th>\n",
       "    </tr>\n",
       "  </thead>\n",
       "  <tbody>\n",
       "    <tr>\n",
       "      <th>0</th>\n",
       "      <td>2004-09-03</td>\n",
       "      <td>Spain</td>\n",
       "      <td>Scotland</td>\n",
       "      <td>Europe</td>\n",
       "      <td>Europe</td>\n",
       "      <td>3</td>\n",
       "      <td>67</td>\n",
       "      <td>0</td>\n",
       "      <td>0</td>\n",
       "      <td>1</td>\n",
       "      <td>...</td>\n",
       "      <td>No</td>\n",
       "      <td>Draw</td>\n",
       "      <td>94.0</td>\n",
       "      <td>84.0</td>\n",
       "      <td>86.5</td>\n",
       "      <td>89.3</td>\n",
       "      <td>89.5</td>\n",
       "      <td>80.2</td>\n",
       "      <td>79.7</td>\n",
       "      <td>81.8</td>\n",
       "    </tr>\n",
       "    <tr>\n",
       "      <th>1</th>\n",
       "      <td>2004-09-04</td>\n",
       "      <td>Albania</td>\n",
       "      <td>Greece</td>\n",
       "      <td>Europe</td>\n",
       "      <td>Europe</td>\n",
       "      <td>94</td>\n",
       "      <td>14</td>\n",
       "      <td>0</td>\n",
       "      <td>0</td>\n",
       "      <td>2</td>\n",
       "      <td>...</td>\n",
       "      <td>No</td>\n",
       "      <td>Win</td>\n",
       "      <td>NaN</td>\n",
       "      <td>90.0</td>\n",
       "      <td>NaN</td>\n",
       "      <td>59.0</td>\n",
       "      <td>74.5</td>\n",
       "      <td>82.8</td>\n",
       "      <td>83.7</td>\n",
       "      <td>85.2</td>\n",
       "    </tr>\n",
       "    <tr>\n",
       "      <th>2</th>\n",
       "      <td>2004-09-04</td>\n",
       "      <td>Austria</td>\n",
       "      <td>England</td>\n",
       "      <td>Europe</td>\n",
       "      <td>Europe</td>\n",
       "      <td>90</td>\n",
       "      <td>7</td>\n",
       "      <td>0</td>\n",
       "      <td>0</td>\n",
       "      <td>2</td>\n",
       "      <td>...</td>\n",
       "      <td>No</td>\n",
       "      <td>Draw</td>\n",
       "      <td>83.0</td>\n",
       "      <td>88.0</td>\n",
       "      <td>76.2</td>\n",
       "      <td>73.0</td>\n",
       "      <td>74.0</td>\n",
       "      <td>90.5</td>\n",
       "      <td>88.7</td>\n",
       "      <td>91.2</td>\n",
       "    </tr>\n",
       "    <tr>\n",
       "      <th>3</th>\n",
       "      <td>2004-09-04</td>\n",
       "      <td>Croatia</td>\n",
       "      <td>Hungary</td>\n",
       "      <td>Europe</td>\n",
       "      <td>Europe</td>\n",
       "      <td>25</td>\n",
       "      <td>76</td>\n",
       "      <td>0</td>\n",
       "      <td>0</td>\n",
       "      <td>3</td>\n",
       "      <td>...</td>\n",
       "      <td>No</td>\n",
       "      <td>Win</td>\n",
       "      <td>77.0</td>\n",
       "      <td>74.0</td>\n",
       "      <td>80.5</td>\n",
       "      <td>78.7</td>\n",
       "      <td>79.0</td>\n",
       "      <td>71.8</td>\n",
       "      <td>75.7</td>\n",
       "      <td>70.2</td>\n",
       "    </tr>\n",
       "    <tr>\n",
       "      <th>4</th>\n",
       "      <td>2004-09-04</td>\n",
       "      <td>Denmark</td>\n",
       "      <td>Ukraine</td>\n",
       "      <td>Europe</td>\n",
       "      <td>Europe</td>\n",
       "      <td>15</td>\n",
       "      <td>87</td>\n",
       "      <td>0</td>\n",
       "      <td>0</td>\n",
       "      <td>1</td>\n",
       "      <td>...</td>\n",
       "      <td>No</td>\n",
       "      <td>Draw</td>\n",
       "      <td>82.0</td>\n",
       "      <td>NaN</td>\n",
       "      <td>79.5</td>\n",
       "      <td>85.0</td>\n",
       "      <td>81.5</td>\n",
       "      <td>NaN</td>\n",
       "      <td>81.7</td>\n",
       "      <td>65.8</td>\n",
       "    </tr>\n",
       "  </tbody>\n",
       "</table>\n",
       "<p>5 rows × 25 columns</p>\n",
       "</div>"
      ],
      "text/plain": [
       "         date home_team away_team home_team_continent away_team_continent  \\\n",
       "0  2004-09-03     Spain  Scotland              Europe              Europe   \n",
       "1  2004-09-04   Albania    Greece              Europe              Europe   \n",
       "2  2004-09-04   Austria   England              Europe              Europe   \n",
       "3  2004-09-04   Croatia   Hungary              Europe              Europe   \n",
       "4  2004-09-04   Denmark   Ukraine              Europe              Europe   \n",
       "\n",
       "   home_team_fifa_rank  away_team_fifa_rank  home_team_total_fifa_points  \\\n",
       "0                    3                   67                            0   \n",
       "1                   94                   14                            0   \n",
       "2                   90                    7                            0   \n",
       "3                   25                   76                            0   \n",
       "4                   15                   87                            0   \n",
       "\n",
       "   away_team_total_fifa_points  home_team_score  ...  shoot_out  \\\n",
       "0                            0                1  ...         No   \n",
       "1                            0                2  ...         No   \n",
       "2                            0                2  ...         No   \n",
       "3                            0                3  ...         No   \n",
       "4                            0                1  ...         No   \n",
       "\n",
       "  home_team_result home_team_goalkeeper_score away_team_goalkeeper_score  \\\n",
       "0             Draw                       94.0                       84.0   \n",
       "1              Win                        NaN                       90.0   \n",
       "2             Draw                       83.0                       88.0   \n",
       "3              Win                       77.0                       74.0   \n",
       "4             Draw                       82.0                        NaN   \n",
       "\n",
       "   home_team_mean_defense_score home_team_mean_offense_score  \\\n",
       "0                          86.5                         89.3   \n",
       "1                           NaN                         59.0   \n",
       "2                          76.2                         73.0   \n",
       "3                          80.5                         78.7   \n",
       "4                          79.5                         85.0   \n",
       "\n",
       "  home_team_mean_midfield_score  away_team_mean_defense_score  \\\n",
       "0                          89.5                          80.2   \n",
       "1                          74.5                          82.8   \n",
       "2                          74.0                          90.5   \n",
       "3                          79.0                          71.8   \n",
       "4                          81.5                           NaN   \n",
       "\n",
       "   away_team_mean_offense_score  away_team_mean_midfield_score  \n",
       "0                          79.7                           81.8  \n",
       "1                          83.7                           85.2  \n",
       "2                          88.7                           91.2  \n",
       "3                          75.7                           70.2  \n",
       "4                          81.7                           65.8  \n",
       "\n",
       "[5 rows x 25 columns]"
      ]
     },
     "execution_count": 3,
     "metadata": {},
     "output_type": "execute_result"
    }
   ],
   "source": [
    "# visualising first 5 rows\n",
    "data.head()"
   ]
  },
  {
   "cell_type": "markdown",
   "metadata": {},
   "source": [
    "### Plotting correlations\n",
    "\n",
    "In order to understand better the numerical data before processing it, we want to see if any variables are particularly correlated."
   ]
  },
  {
   "cell_type": "code",
   "execution_count": 4,
   "metadata": {},
   "outputs": [
    {
     "data": {
      "image/png": "[encoded data removed]",
      "text/plain": [
       "<Figure size 432x288 with 2 Axes>"
      ]
     },
     "metadata": {
      "needs_background": "light"
     },
     "output_type": "display_data"
    }
   ],
   "source": [
    "# compute correlations between features\n",
    "corr = data.corr()\n",
    "\n",
    "from seaborn import heatmap\n",
    "heatmap(corr)\n",
    "\n",
    "plt.show()"
   ]
  },
  {
   "cell_type": "markdown",
   "metadata": {},
   "source": [
    "### _Takeaways_\n",
    "\n",
    "1. Scores of different positions within the same team and same match are highly positively correlated.\n",
    "2. Team FIFA rank and positions' scores are highly negatively correlated."
   ]
  },
  {
   "cell_type": "markdown",
   "metadata": {},
   "source": [
    "### Plotting features - Histogram\n",
    "\n",
    "To understand data further, we plot histograms of all numerical features."
   ]
  },
  {
   "cell_type": "code",
   "execution_count": 5,
   "metadata": {},
   "outputs": [
    {
     "data": {
      "image/png": "[encoded data removed]",
      "text/plain": [
       "<Figure size 1008x864 with 16 Axes>"
      ]
     },
     "metadata": {
      "needs_background": "light"
     },
     "output_type": "display_data"
    }
   ],
   "source": [
    "data.hist(bins=50, figsize=(14, 12))\n",
    "plt.show()"
   ]
  },
  {
   "cell_type": "markdown",
   "metadata": {},
   "source": [
    "### _Takeaways_\n",
    "\n",
    "1. FIFA points columns (_home_team_total_fifa_points_ and _away_team_total_fifa_points_) have a large number of zeroes, which seems like a problem with the data and needs to be investigated further.\n",
    "2. _home_team_goalkeeper_score_ seems to have a gap at around 72.\n",
    "3. Most other data roughly follows normal distributions."
   ]
  },
  {
   "cell_type": "markdown",
   "metadata": {},
   "source": [
    "### Probing FIFA points\n",
    "\n",
    "In order to clean the data, we first need to understand why there are large numbers of zero values in the FIFA points columns."
   ]
  },
  {
   "cell_type": "code",
   "execution_count": 6,
   "metadata": {},
   "outputs": [
    {
     "data": {
      "text/html": [
       "<div>\n",
       "<style scoped>\n",
       "    .dataframe tbody tr th:only-of-type {\n",
       "        vertical-align: middle;\n",
       "    }\n",
       "\n",
       "    .dataframe tbody tr th {\n",
       "        vertical-align: top;\n",
       "    }\n",
       "\n",
       "    .dataframe thead th {\n",
       "        text-align: right;\n",
       "    }\n",
       "</style>\n",
       "<table border=\"1\" class=\"dataframe\">\n",
       "  <thead>\n",
       "    <tr style=\"text-align: right;\">\n",
       "      <th></th>\n",
       "      <th>date</th>\n",
       "      <th>home_team</th>\n",
       "      <th>away_team</th>\n",
       "      <th>home_team_continent</th>\n",
       "      <th>away_team_continent</th>\n",
       "      <th>home_team_fifa_rank</th>\n",
       "      <th>away_team_fifa_rank</th>\n",
       "      <th>home_team_total_fifa_points</th>\n",
       "      <th>away_team_total_fifa_points</th>\n",
       "      <th>home_team_score</th>\n",
       "      <th>...</th>\n",
       "      <th>shoot_out</th>\n",
       "      <th>home_team_result</th>\n",
       "      <th>home_team_goalkeeper_score</th>\n",
       "      <th>away_team_goalkeeper_score</th>\n",
       "      <th>home_team_mean_defense_score</th>\n",
       "      <th>home_team_mean_offense_score</th>\n",
       "      <th>home_team_mean_midfield_score</th>\n",
       "      <th>away_team_mean_defense_score</th>\n",
       "      <th>away_team_mean_offense_score</th>\n",
       "      <th>away_team_mean_midfield_score</th>\n",
       "    </tr>\n",
       "  </thead>\n",
       "  <tbody>\n",
       "    <tr>\n",
       "      <th>0</th>\n",
       "      <td>2004-09-03</td>\n",
       "      <td>Spain</td>\n",
       "      <td>Scotland</td>\n",
       "      <td>Europe</td>\n",
       "      <td>Europe</td>\n",
       "      <td>3</td>\n",
       "      <td>67</td>\n",
       "      <td>0</td>\n",
       "      <td>0</td>\n",
       "      <td>1</td>\n",
       "      <td>...</td>\n",
       "      <td>No</td>\n",
       "      <td>Draw</td>\n",
       "      <td>94.0</td>\n",
       "      <td>84.0</td>\n",
       "      <td>86.5</td>\n",
       "      <td>89.3</td>\n",
       "      <td>89.5</td>\n",
       "      <td>80.2</td>\n",
       "      <td>79.7</td>\n",
       "      <td>81.8</td>\n",
       "    </tr>\n",
       "    <tr>\n",
       "      <th>1</th>\n",
       "      <td>2004-09-04</td>\n",
       "      <td>Albania</td>\n",
       "      <td>Greece</td>\n",
       "      <td>Europe</td>\n",
       "      <td>Europe</td>\n",
       "      <td>94</td>\n",
       "      <td>14</td>\n",
       "      <td>0</td>\n",
       "      <td>0</td>\n",
       "      <td>2</td>\n",
       "      <td>...</td>\n",
       "      <td>No</td>\n",
       "      <td>Win</td>\n",
       "      <td>NaN</td>\n",
       "      <td>90.0</td>\n",
       "      <td>NaN</td>\n",
       "      <td>59.0</td>\n",
       "      <td>74.5</td>\n",
       "      <td>82.8</td>\n",
       "      <td>83.7</td>\n",
       "      <td>85.2</td>\n",
       "    </tr>\n",
       "    <tr>\n",
       "      <th>2</th>\n",
       "      <td>2004-09-04</td>\n",
       "      <td>Austria</td>\n",
       "      <td>England</td>\n",
       "      <td>Europe</td>\n",
       "      <td>Europe</td>\n",
       "      <td>90</td>\n",
       "      <td>7</td>\n",
       "      <td>0</td>\n",
       "      <td>0</td>\n",
       "      <td>2</td>\n",
       "      <td>...</td>\n",
       "      <td>No</td>\n",
       "      <td>Draw</td>\n",
       "      <td>83.0</td>\n",
       "      <td>88.0</td>\n",
       "      <td>76.2</td>\n",
       "      <td>73.0</td>\n",
       "      <td>74.0</td>\n",
       "      <td>90.5</td>\n",
       "      <td>88.7</td>\n",
       "      <td>91.2</td>\n",
       "    </tr>\n",
       "    <tr>\n",
       "      <th>3</th>\n",
       "      <td>2004-09-04</td>\n",
       "      <td>Croatia</td>\n",
       "      <td>Hungary</td>\n",
       "      <td>Europe</td>\n",
       "      <td>Europe</td>\n",
       "      <td>25</td>\n",
       "      <td>76</td>\n",
       "      <td>0</td>\n",
       "      <td>0</td>\n",
       "      <td>3</td>\n",
       "      <td>...</td>\n",
       "      <td>No</td>\n",
       "      <td>Win</td>\n",
       "      <td>77.0</td>\n",
       "      <td>74.0</td>\n",
       "      <td>80.5</td>\n",
       "      <td>78.7</td>\n",
       "      <td>79.0</td>\n",
       "      <td>71.8</td>\n",
       "      <td>75.7</td>\n",
       "      <td>70.2</td>\n",
       "    </tr>\n",
       "    <tr>\n",
       "      <th>4</th>\n",
       "      <td>2004-09-04</td>\n",
       "      <td>Denmark</td>\n",
       "      <td>Ukraine</td>\n",
       "      <td>Europe</td>\n",
       "      <td>Europe</td>\n",
       "      <td>15</td>\n",
       "      <td>87</td>\n",
       "      <td>0</td>\n",
       "      <td>0</td>\n",
       "      <td>1</td>\n",
       "      <td>...</td>\n",
       "      <td>No</td>\n",
       "      <td>Draw</td>\n",
       "      <td>82.0</td>\n",
       "      <td>NaN</td>\n",
       "      <td>79.5</td>\n",
       "      <td>85.0</td>\n",
       "      <td>81.5</td>\n",
       "      <td>NaN</td>\n",
       "      <td>81.7</td>\n",
       "      <td>65.8</td>\n",
       "    </tr>\n",
       "  </tbody>\n",
       "</table>\n",
       "<p>5 rows × 25 columns</p>\n",
       "</div>"
      ],
      "text/plain": [
       "         date home_team away_team home_team_continent away_team_continent  \\\n",
       "0  2004-09-03     Spain  Scotland              Europe              Europe   \n",
       "1  2004-09-04   Albania    Greece              Europe              Europe   \n",
       "2  2004-09-04   Austria   England              Europe              Europe   \n",
       "3  2004-09-04   Croatia   Hungary              Europe              Europe   \n",
       "4  2004-09-04   Denmark   Ukraine              Europe              Europe   \n",
       "\n",
       "   home_team_fifa_rank  away_team_fifa_rank  home_team_total_fifa_points  \\\n",
       "0                    3                   67                            0   \n",
       "1                   94                   14                            0   \n",
       "2                   90                    7                            0   \n",
       "3                   25                   76                            0   \n",
       "4                   15                   87                            0   \n",
       "\n",
       "   away_team_total_fifa_points  home_team_score  ...  shoot_out  \\\n",
       "0                            0                1  ...         No   \n",
       "1                            0                2  ...         No   \n",
       "2                            0                2  ...         No   \n",
       "3                            0                3  ...         No   \n",
       "4                            0                1  ...         No   \n",
       "\n",
       "  home_team_result home_team_goalkeeper_score away_team_goalkeeper_score  \\\n",
       "0             Draw                       94.0                       84.0   \n",
       "1              Win                        NaN                       90.0   \n",
       "2             Draw                       83.0                       88.0   \n",
       "3              Win                       77.0                       74.0   \n",
       "4             Draw                       82.0                        NaN   \n",
       "\n",
       "   home_team_mean_defense_score home_team_mean_offense_score  \\\n",
       "0                          86.5                         89.3   \n",
       "1                           NaN                         59.0   \n",
       "2                          76.2                         73.0   \n",
       "3                          80.5                         78.7   \n",
       "4                          79.5                         85.0   \n",
       "\n",
       "  home_team_mean_midfield_score  away_team_mean_defense_score  \\\n",
       "0                          89.5                          80.2   \n",
       "1                          74.5                          82.8   \n",
       "2                          74.0                          90.5   \n",
       "3                          79.0                          71.8   \n",
       "4                          81.5                           NaN   \n",
       "\n",
       "   away_team_mean_offense_score  away_team_mean_midfield_score  \n",
       "0                          79.7                           81.8  \n",
       "1                          83.7                           85.2  \n",
       "2                          88.7                           91.2  \n",
       "3                          75.7                           70.2  \n",
       "4                          81.7                           65.8  \n",
       "\n",
       "[5 rows x 25 columns]"
      ]
     },
     "execution_count": 6,
     "metadata": {},
     "output_type": "execute_result"
    }
   ],
   "source": [
    "# select all rows where home team fifa points is zero\n",
    "zero_points = data.query('home_team_total_fifa_points == 0')\n",
    "zero_points.head()"
   ]
  },
  {
   "cell_type": "code",
   "execution_count": 7,
   "metadata": {},
   "outputs": [
    {
     "data": {
      "text/html": [
       "<div>\n",
       "<style scoped>\n",
       "    .dataframe tbody tr th:only-of-type {\n",
       "        vertical-align: middle;\n",
       "    }\n",
       "\n",
       "    .dataframe tbody tr th {\n",
       "        vertical-align: top;\n",
       "    }\n",
       "\n",
       "    .dataframe thead th {\n",
       "        text-align: right;\n",
       "    }\n",
       "</style>\n",
       "<table border=\"1\" class=\"dataframe\">\n",
       "  <thead>\n",
       "    <tr style=\"text-align: right;\">\n",
       "      <th></th>\n",
       "      <th>date</th>\n",
       "      <th>home_team</th>\n",
       "      <th>away_team</th>\n",
       "      <th>home_team_continent</th>\n",
       "      <th>away_team_continent</th>\n",
       "      <th>home_team_fifa_rank</th>\n",
       "      <th>away_team_fifa_rank</th>\n",
       "      <th>home_team_total_fifa_points</th>\n",
       "      <th>away_team_total_fifa_points</th>\n",
       "      <th>home_team_score</th>\n",
       "      <th>...</th>\n",
       "      <th>shoot_out</th>\n",
       "      <th>home_team_result</th>\n",
       "      <th>home_team_goalkeeper_score</th>\n",
       "      <th>away_team_goalkeeper_score</th>\n",
       "      <th>home_team_mean_defense_score</th>\n",
       "      <th>home_team_mean_offense_score</th>\n",
       "      <th>home_team_mean_midfield_score</th>\n",
       "      <th>away_team_mean_defense_score</th>\n",
       "      <th>away_team_mean_offense_score</th>\n",
       "      <th>away_team_mean_midfield_score</th>\n",
       "    </tr>\n",
       "  </thead>\n",
       "  <tbody>\n",
       "    <tr>\n",
       "      <th>2016</th>\n",
       "      <td>2011-08-10</td>\n",
       "      <td>Wales</td>\n",
       "      <td>Australia</td>\n",
       "      <td>Europe</td>\n",
       "      <td>Oceania</td>\n",
       "      <td>112</td>\n",
       "      <td>22</td>\n",
       "      <td>0</td>\n",
       "      <td>0</td>\n",
       "      <td>1</td>\n",
       "      <td>...</td>\n",
       "      <td>No</td>\n",
       "      <td>Lose</td>\n",
       "      <td>75.0</td>\n",
       "      <td>80.0</td>\n",
       "      <td>74.2</td>\n",
       "      <td>71.0</td>\n",
       "      <td>80.2</td>\n",
       "      <td>72.5</td>\n",
       "      <td>76.7</td>\n",
       "      <td>71.0</td>\n",
       "    </tr>\n",
       "    <tr>\n",
       "      <th>2001</th>\n",
       "      <td>2011-08-10</td>\n",
       "      <td>Israel</td>\n",
       "      <td>Côte d'Ivoire</td>\n",
       "      <td>Europe</td>\n",
       "      <td>Africa</td>\n",
       "      <td>32</td>\n",
       "      <td>15</td>\n",
       "      <td>0</td>\n",
       "      <td>0</td>\n",
       "      <td>3</td>\n",
       "      <td>...</td>\n",
       "      <td>No</td>\n",
       "      <td>Lose</td>\n",
       "      <td>78.0</td>\n",
       "      <td>72.0</td>\n",
       "      <td>67.0</td>\n",
       "      <td>69.0</td>\n",
       "      <td>73.8</td>\n",
       "      <td>75.8</td>\n",
       "      <td>83.3</td>\n",
       "      <td>77.2</td>\n",
       "    </tr>\n",
       "    <tr>\n",
       "      <th>1989</th>\n",
       "      <td>2011-08-10</td>\n",
       "      <td>Austria</td>\n",
       "      <td>Slovakia</td>\n",
       "      <td>Europe</td>\n",
       "      <td>Europe</td>\n",
       "      <td>66</td>\n",
       "      <td>29</td>\n",
       "      <td>0</td>\n",
       "      <td>0</td>\n",
       "      <td>1</td>\n",
       "      <td>...</td>\n",
       "      <td>No</td>\n",
       "      <td>Lose</td>\n",
       "      <td>75.0</td>\n",
       "      <td>72.0</td>\n",
       "      <td>74.0</td>\n",
       "      <td>74.0</td>\n",
       "      <td>74.8</td>\n",
       "      <td>74.8</td>\n",
       "      <td>77.3</td>\n",
       "      <td>74.2</td>\n",
       "    </tr>\n",
       "    <tr>\n",
       "      <th>1990</th>\n",
       "      <td>2011-08-10</td>\n",
       "      <td>Belarus</td>\n",
       "      <td>Bulgaria</td>\n",
       "      <td>Europe</td>\n",
       "      <td>Europe</td>\n",
       "      <td>42</td>\n",
       "      <td>48</td>\n",
       "      <td>0</td>\n",
       "      <td>0</td>\n",
       "      <td>1</td>\n",
       "      <td>...</td>\n",
       "      <td>No</td>\n",
       "      <td>Win</td>\n",
       "      <td>75.0</td>\n",
       "      <td>77.0</td>\n",
       "      <td>63.0</td>\n",
       "      <td>71.0</td>\n",
       "      <td>72.2</td>\n",
       "      <td>71.2</td>\n",
       "      <td>75.3</td>\n",
       "      <td>75.0</td>\n",
       "    </tr>\n",
       "    <tr>\n",
       "      <th>1991</th>\n",
       "      <td>2011-08-10</td>\n",
       "      <td>Bosnia and Herzegovina</td>\n",
       "      <td>Greece</td>\n",
       "      <td>Europe</td>\n",
       "      <td>Europe</td>\n",
       "      <td>41</td>\n",
       "      <td>13</td>\n",
       "      <td>0</td>\n",
       "      <td>0</td>\n",
       "      <td>0</td>\n",
       "      <td>...</td>\n",
       "      <td>No</td>\n",
       "      <td>Draw</td>\n",
       "      <td>76.0</td>\n",
       "      <td>74.0</td>\n",
       "      <td>72.5</td>\n",
       "      <td>78.3</td>\n",
       "      <td>77.5</td>\n",
       "      <td>75.5</td>\n",
       "      <td>76.3</td>\n",
       "      <td>75.5</td>\n",
       "    </tr>\n",
       "  </tbody>\n",
       "</table>\n",
       "<p>5 rows × 25 columns</p>\n",
       "</div>"
      ],
      "text/plain": [
       "            date               home_team      away_team home_team_continent  \\\n",
       "2016  2011-08-10                   Wales      Australia              Europe   \n",
       "2001  2011-08-10                  Israel  Côte d'Ivoire              Europe   \n",
       "1989  2011-08-10                 Austria       Slovakia              Europe   \n",
       "1990  2011-08-10                 Belarus       Bulgaria              Europe   \n",
       "1991  2011-08-10  Bosnia and Herzegovina         Greece              Europe   \n",
       "\n",
       "     away_team_continent  home_team_fifa_rank  away_team_fifa_rank  \\\n",
       "2016             Oceania                  112                   22   \n",
       "2001              Africa                   32                   15   \n",
       "1989              Europe                   66                   29   \n",
       "1990              Europe                   42                   48   \n",
       "1991              Europe                   41                   13   \n",
       "\n",
       "      home_team_total_fifa_points  away_team_total_fifa_points  \\\n",
       "2016                            0                            0   \n",
       "2001                            0                            0   \n",
       "1989                            0                            0   \n",
       "1990                            0                            0   \n",
       "1991                            0                            0   \n",
       "\n",
       "      home_team_score  ...  shoot_out home_team_result  \\\n",
       "2016                1  ...         No             Lose   \n",
       "2001                3  ...         No             Lose   \n",
       "1989                1  ...         No             Lose   \n",
       "1990                1  ...         No              Win   \n",
       "1991                0  ...         No             Draw   \n",
       "\n",
       "     home_team_goalkeeper_score away_team_goalkeeper_score  \\\n",
       "2016                       75.0                       80.0   \n",
       "2001                       78.0                       72.0   \n",
       "1989                       75.0                       72.0   \n",
       "1990                       75.0                       77.0   \n",
       "1991                       76.0                       74.0   \n",
       "\n",
       "      home_team_mean_defense_score home_team_mean_offense_score  \\\n",
       "2016                          74.2                         71.0   \n",
       "2001                          67.0                         69.0   \n",
       "1989                          74.0                         74.0   \n",
       "1990                          63.0                         71.0   \n",
       "1991                          72.5                         78.3   \n",
       "\n",
       "     home_team_mean_midfield_score  away_team_mean_defense_score  \\\n",
       "2016                          80.2                          72.5   \n",
       "2001                          73.8                          75.8   \n",
       "1989                          74.8                          74.8   \n",
       "1990                          72.2                          71.2   \n",
       "1991                          77.5                          75.5   \n",
       "\n",
       "      away_team_mean_offense_score  away_team_mean_midfield_score  \n",
       "2016                          76.7                           71.0  \n",
       "2001                          83.3                           77.2  \n",
       "1989                          77.3                           74.2  \n",
       "1990                          75.3                           75.0  \n",
       "1991                          76.3                           75.5  \n",
       "\n",
       "[5 rows x 25 columns]"
      ]
     },
     "execution_count": 7,
     "metadata": {},
     "output_type": "execute_result"
    }
   ],
   "source": [
    "# printing them in descending order by date\n",
    "zero_points.sort_values(by = 'date', ascending=False).head()"
   ]
  },
  {
   "cell_type": "markdown",
   "metadata": {},
   "source": [
    "Interesting... All zero values seem to be between the dates of 2004-09-03 and 2011-08-10.\n",
    "\n",
    "We need to make sure that all values between these dates are zero."
   ]
  },
  {
   "cell_type": "code",
   "execution_count": 8,
   "metadata": {},
   "outputs": [
    {
     "data": {
      "text/html": [
       "<div>\n",
       "<style scoped>\n",
       "    .dataframe tbody tr th:only-of-type {\n",
       "        vertical-align: middle;\n",
       "    }\n",
       "\n",
       "    .dataframe tbody tr th {\n",
       "        vertical-align: top;\n",
       "    }\n",
       "\n",
       "    .dataframe thead th {\n",
       "        text-align: right;\n",
       "    }\n",
       "</style>\n",
       "<table border=\"1\" class=\"dataframe\">\n",
       "  <thead>\n",
       "    <tr style=\"text-align: right;\">\n",
       "      <th></th>\n",
       "      <th>date</th>\n",
       "      <th>home_team</th>\n",
       "      <th>away_team</th>\n",
       "      <th>home_team_continent</th>\n",
       "      <th>away_team_continent</th>\n",
       "      <th>home_team_fifa_rank</th>\n",
       "      <th>away_team_fifa_rank</th>\n",
       "      <th>home_team_total_fifa_points</th>\n",
       "      <th>away_team_total_fifa_points</th>\n",
       "      <th>home_team_score</th>\n",
       "      <th>...</th>\n",
       "      <th>shoot_out</th>\n",
       "      <th>home_team_result</th>\n",
       "      <th>home_team_goalkeeper_score</th>\n",
       "      <th>away_team_goalkeeper_score</th>\n",
       "      <th>home_team_mean_defense_score</th>\n",
       "      <th>home_team_mean_offense_score</th>\n",
       "      <th>home_team_mean_midfield_score</th>\n",
       "      <th>away_team_mean_defense_score</th>\n",
       "      <th>away_team_mean_offense_score</th>\n",
       "      <th>away_team_mean_midfield_score</th>\n",
       "    </tr>\n",
       "  </thead>\n",
       "  <tbody>\n",
       "  </tbody>\n",
       "</table>\n",
       "<p>0 rows × 25 columns</p>\n",
       "</div>"
      ],
      "text/plain": [
       "Empty DataFrame\n",
       "Columns: [date, home_team, away_team, home_team_continent, away_team_continent, home_team_fifa_rank, away_team_fifa_rank, home_team_total_fifa_points, away_team_total_fifa_points, home_team_score, away_team_score, tournament, city, country, neutral_location, shoot_out, home_team_result, home_team_goalkeeper_score, away_team_goalkeeper_score, home_team_mean_defense_score, home_team_mean_offense_score, home_team_mean_midfield_score, away_team_mean_defense_score, away_team_mean_offense_score, away_team_mean_midfield_score]\n",
       "Index: []\n",
       "\n",
       "[0 rows x 25 columns]"
      ]
     },
     "execution_count": 8,
     "metadata": {},
     "output_type": "execute_result"
    }
   ],
   "source": [
    "# printing all values not equal to zero and lower than the upper boundary (home team)\n",
    "nonzero_points = data.query('home_team_total_fifa_points != 0')\n",
    "nonzero_points[nonzero_points['date'] <= dt.date(2011, 8, 10)]"
   ]
  },
  {
   "cell_type": "code",
   "execution_count": 9,
   "metadata": {},
   "outputs": [
    {
     "data": {
      "text/html": [
       "<div>\n",
       "<style scoped>\n",
       "    .dataframe tbody tr th:only-of-type {\n",
       "        vertical-align: middle;\n",
       "    }\n",
       "\n",
       "    .dataframe tbody tr th {\n",
       "        vertical-align: top;\n",
       "    }\n",
       "\n",
       "    .dataframe thead th {\n",
       "        text-align: right;\n",
       "    }\n",
       "</style>\n",
       "<table border=\"1\" class=\"dataframe\">\n",
       "  <thead>\n",
       "    <tr style=\"text-align: right;\">\n",
       "      <th></th>\n",
       "      <th>date</th>\n",
       "      <th>home_team</th>\n",
       "      <th>away_team</th>\n",
       "      <th>home_team_continent</th>\n",
       "      <th>away_team_continent</th>\n",
       "      <th>home_team_fifa_rank</th>\n",
       "      <th>away_team_fifa_rank</th>\n",
       "      <th>home_team_total_fifa_points</th>\n",
       "      <th>away_team_total_fifa_points</th>\n",
       "      <th>home_team_score</th>\n",
       "      <th>...</th>\n",
       "      <th>shoot_out</th>\n",
       "      <th>home_team_result</th>\n",
       "      <th>home_team_goalkeeper_score</th>\n",
       "      <th>away_team_goalkeeper_score</th>\n",
       "      <th>home_team_mean_defense_score</th>\n",
       "      <th>home_team_mean_offense_score</th>\n",
       "      <th>home_team_mean_midfield_score</th>\n",
       "      <th>away_team_mean_defense_score</th>\n",
       "      <th>away_team_mean_offense_score</th>\n",
       "      <th>away_team_mean_midfield_score</th>\n",
       "    </tr>\n",
       "  </thead>\n",
       "  <tbody>\n",
       "  </tbody>\n",
       "</table>\n",
       "<p>0 rows × 25 columns</p>\n",
       "</div>"
      ],
      "text/plain": [
       "Empty DataFrame\n",
       "Columns: [date, home_team, away_team, home_team_continent, away_team_continent, home_team_fifa_rank, away_team_fifa_rank, home_team_total_fifa_points, away_team_total_fifa_points, home_team_score, away_team_score, tournament, city, country, neutral_location, shoot_out, home_team_result, home_team_goalkeeper_score, away_team_goalkeeper_score, home_team_mean_defense_score, home_team_mean_offense_score, home_team_mean_midfield_score, away_team_mean_defense_score, away_team_mean_offense_score, away_team_mean_midfield_score]\n",
       "Index: []\n",
       "\n",
       "[0 rows x 25 columns]"
      ]
     },
     "execution_count": 9,
     "metadata": {},
     "output_type": "execute_result"
    }
   ],
   "source": [
    "# printing all values not equal to zero and lower than the upper boundary (away team)\n",
    "nonzero_points = data.query('away_team_total_fifa_points != 0')\n",
    "nonzero_points[nonzero_points['date'] <= dt.date(2011, 8, 10)]"
   ]
  },
  {
   "cell_type": "markdown",
   "metadata": {},
   "source": [
    "We found something! It seems like the dataset is missing values for the fifa points before 2011-08-10, this will need to be cleaned up"
   ]
  },
  {
   "cell_type": "markdown",
   "metadata": {},
   "source": [
    "### Data Cleansing\n",
    "\n",
    "Now that we understand the data better, it is time to clean it up before training the model."
   ]
  },
  {
   "cell_type": "markdown",
   "metadata": {},
   "source": [
    "### Position scores\n",
    "\n",
    "From printing the first few values of the data, we also realised there were some null (or NaN) values at in the columns displaying the scores of the different positions (home team defense, away team goalkeeper, etc).\n",
    "\n",
    "Nonetheless, as seen in the correlations diagram, there is a strong correlation between one position's score and the score of the other positions (within the same match). Therefore, we have chosen to fill in the NaN values with the average of the other positions within the team each match."
   ]
  },
  {
   "cell_type": "code",
   "execution_count": 10,
   "metadata": {},
   "outputs": [
    {
     "data": {
      "image/png": "[encoded data removed]",
      "text/plain": [
       "<Figure size 432x288 with 2 Axes>"
      ]
     },
     "metadata": {
      "needs_background": "light"
     },
     "output_type": "display_data"
    }
   ],
   "source": [
    "# compute correlations between team points\n",
    "corr = data[['home_team_goalkeeper_score', \\\n",
    "             'home_team_mean_defense_score', \\\n",
    "             'home_team_mean_offense_score',\\\n",
    "             'home_team_mean_midfield_score', \\\n",
    "             'away_team_goalkeeper_score', \\\n",
    "             'away_team_mean_defense_score', \\\n",
    "             'away_team_mean_offense_score', \\\n",
    "             'away_team_mean_midfield_score']].corr()\n",
    "\n",
    "heatmap(corr, annot=True)\n",
    "\n",
    "plt.show()"
   ]
  },
  {
   "cell_type": "code",
   "execution_count": 11,
   "metadata": {},
   "outputs": [
    {
     "data": {
      "text/plain": [
       "0    89.825\n",
       "1    66.750\n",
       "2    76.550\n",
       "3    78.800\n",
       "4    82.000\n",
       "dtype: float64"
      ]
     },
     "execution_count": 11,
     "metadata": {},
     "output_type": "execute_result"
    }
   ],
   "source": [
    "# remember NaN values are ignored when calculating the average\n",
    "home_mean = data[['home_team_goalkeeper_score', \\\n",
    "                  'home_team_mean_defense_score', \\\n",
    "                  'home_team_mean_offense_score',\\\n",
    "                  'home_team_mean_midfield_score']].mean(axis=1)\n",
    "\n",
    "home_mean.head()"
   ]
  },
  {
   "cell_type": "code",
   "execution_count": 12,
   "metadata": {},
   "outputs": [
    {
     "data": {
      "text/html": [
       "<div>\n",
       "<style scoped>\n",
       "    .dataframe tbody tr th:only-of-type {\n",
       "        vertical-align: middle;\n",
       "    }\n",
       "\n",
       "    .dataframe tbody tr th {\n",
       "        vertical-align: top;\n",
       "    }\n",
       "\n",
       "    .dataframe thead th {\n",
       "        text-align: right;\n",
       "    }\n",
       "</style>\n",
       "<table border=\"1\" class=\"dataframe\">\n",
       "  <thead>\n",
       "    <tr style=\"text-align: right;\">\n",
       "      <th></th>\n",
       "      <th>date</th>\n",
       "      <th>home_team</th>\n",
       "      <th>away_team</th>\n",
       "      <th>home_team_continent</th>\n",
       "      <th>away_team_continent</th>\n",
       "      <th>home_team_fifa_rank</th>\n",
       "      <th>away_team_fifa_rank</th>\n",
       "      <th>home_team_total_fifa_points</th>\n",
       "      <th>away_team_total_fifa_points</th>\n",
       "      <th>home_team_score</th>\n",
       "      <th>...</th>\n",
       "      <th>shoot_out</th>\n",
       "      <th>home_team_result</th>\n",
       "      <th>home_team_goalkeeper_score</th>\n",
       "      <th>away_team_goalkeeper_score</th>\n",
       "      <th>home_team_mean_defense_score</th>\n",
       "      <th>home_team_mean_offense_score</th>\n",
       "      <th>home_team_mean_midfield_score</th>\n",
       "      <th>away_team_mean_defense_score</th>\n",
       "      <th>away_team_mean_offense_score</th>\n",
       "      <th>away_team_mean_midfield_score</th>\n",
       "    </tr>\n",
       "  </thead>\n",
       "  <tbody>\n",
       "    <tr>\n",
       "      <th>0</th>\n",
       "      <td>2004-09-03</td>\n",
       "      <td>Spain</td>\n",
       "      <td>Scotland</td>\n",
       "      <td>Europe</td>\n",
       "      <td>Europe</td>\n",
       "      <td>3</td>\n",
       "      <td>67</td>\n",
       "      <td>0</td>\n",
       "      <td>0</td>\n",
       "      <td>1</td>\n",
       "      <td>...</td>\n",
       "      <td>No</td>\n",
       "      <td>Draw</td>\n",
       "      <td>94.00</td>\n",
       "      <td>84.0</td>\n",
       "      <td>86.50</td>\n",
       "      <td>89.3</td>\n",
       "      <td>89.5</td>\n",
       "      <td>80.2</td>\n",
       "      <td>79.7</td>\n",
       "      <td>81.8</td>\n",
       "    </tr>\n",
       "    <tr>\n",
       "      <th>1</th>\n",
       "      <td>2004-09-04</td>\n",
       "      <td>Albania</td>\n",
       "      <td>Greece</td>\n",
       "      <td>Europe</td>\n",
       "      <td>Europe</td>\n",
       "      <td>94</td>\n",
       "      <td>14</td>\n",
       "      <td>0</td>\n",
       "      <td>0</td>\n",
       "      <td>2</td>\n",
       "      <td>...</td>\n",
       "      <td>No</td>\n",
       "      <td>Win</td>\n",
       "      <td>66.75</td>\n",
       "      <td>90.0</td>\n",
       "      <td>66.75</td>\n",
       "      <td>59.0</td>\n",
       "      <td>74.5</td>\n",
       "      <td>82.8</td>\n",
       "      <td>83.7</td>\n",
       "      <td>85.2</td>\n",
       "    </tr>\n",
       "    <tr>\n",
       "      <th>2</th>\n",
       "      <td>2004-09-04</td>\n",
       "      <td>Austria</td>\n",
       "      <td>England</td>\n",
       "      <td>Europe</td>\n",
       "      <td>Europe</td>\n",
       "      <td>90</td>\n",
       "      <td>7</td>\n",
       "      <td>0</td>\n",
       "      <td>0</td>\n",
       "      <td>2</td>\n",
       "      <td>...</td>\n",
       "      <td>No</td>\n",
       "      <td>Draw</td>\n",
       "      <td>83.00</td>\n",
       "      <td>88.0</td>\n",
       "      <td>76.20</td>\n",
       "      <td>73.0</td>\n",
       "      <td>74.0</td>\n",
       "      <td>90.5</td>\n",
       "      <td>88.7</td>\n",
       "      <td>91.2</td>\n",
       "    </tr>\n",
       "    <tr>\n",
       "      <th>3</th>\n",
       "      <td>2004-09-04</td>\n",
       "      <td>Croatia</td>\n",
       "      <td>Hungary</td>\n",
       "      <td>Europe</td>\n",
       "      <td>Europe</td>\n",
       "      <td>25</td>\n",
       "      <td>76</td>\n",
       "      <td>0</td>\n",
       "      <td>0</td>\n",
       "      <td>3</td>\n",
       "      <td>...</td>\n",
       "      <td>No</td>\n",
       "      <td>Win</td>\n",
       "      <td>77.00</td>\n",
       "      <td>74.0</td>\n",
       "      <td>80.50</td>\n",
       "      <td>78.7</td>\n",
       "      <td>79.0</td>\n",
       "      <td>71.8</td>\n",
       "      <td>75.7</td>\n",
       "      <td>70.2</td>\n",
       "    </tr>\n",
       "    <tr>\n",
       "      <th>4</th>\n",
       "      <td>2004-09-04</td>\n",
       "      <td>Denmark</td>\n",
       "      <td>Ukraine</td>\n",
       "      <td>Europe</td>\n",
       "      <td>Europe</td>\n",
       "      <td>15</td>\n",
       "      <td>87</td>\n",
       "      <td>0</td>\n",
       "      <td>0</td>\n",
       "      <td>1</td>\n",
       "      <td>...</td>\n",
       "      <td>No</td>\n",
       "      <td>Draw</td>\n",
       "      <td>82.00</td>\n",
       "      <td>82.0</td>\n",
       "      <td>79.50</td>\n",
       "      <td>85.0</td>\n",
       "      <td>81.5</td>\n",
       "      <td>82.0</td>\n",
       "      <td>81.7</td>\n",
       "      <td>65.8</td>\n",
       "    </tr>\n",
       "  </tbody>\n",
       "</table>\n",
       "<p>5 rows × 25 columns</p>\n",
       "</div>"
      ],
      "text/plain": [
       "         date home_team away_team home_team_continent away_team_continent  \\\n",
       "0  2004-09-03     Spain  Scotland              Europe              Europe   \n",
       "1  2004-09-04   Albania    Greece              Europe              Europe   \n",
       "2  2004-09-04   Austria   England              Europe              Europe   \n",
       "3  2004-09-04   Croatia   Hungary              Europe              Europe   \n",
       "4  2004-09-04   Denmark   Ukraine              Europe              Europe   \n",
       "\n",
       "   home_team_fifa_rank  away_team_fifa_rank  home_team_total_fifa_points  \\\n",
       "0                    3                   67                            0   \n",
       "1                   94                   14                            0   \n",
       "2                   90                    7                            0   \n",
       "3                   25                   76                            0   \n",
       "4                   15                   87                            0   \n",
       "\n",
       "   away_team_total_fifa_points  home_team_score  ...  shoot_out  \\\n",
       "0                            0                1  ...         No   \n",
       "1                            0                2  ...         No   \n",
       "2                            0                2  ...         No   \n",
       "3                            0                3  ...         No   \n",
       "4                            0                1  ...         No   \n",
       "\n",
       "  home_team_result home_team_goalkeeper_score away_team_goalkeeper_score  \\\n",
       "0             Draw                      94.00                       84.0   \n",
       "1              Win                      66.75                       90.0   \n",
       "2             Draw                      83.00                       88.0   \n",
       "3              Win                      77.00                       74.0   \n",
       "4             Draw                      82.00                       82.0   \n",
       "\n",
       "   home_team_mean_defense_score home_team_mean_offense_score  \\\n",
       "0                         86.50                         89.3   \n",
       "1                         66.75                         59.0   \n",
       "2                         76.20                         73.0   \n",
       "3                         80.50                         78.7   \n",
       "4                         79.50                         85.0   \n",
       "\n",
       "  home_team_mean_midfield_score  away_team_mean_defense_score  \\\n",
       "0                          89.5                          80.2   \n",
       "1                          74.5                          82.8   \n",
       "2                          74.0                          90.5   \n",
       "3                          79.0                          71.8   \n",
       "4                          81.5                          82.0   \n",
       "\n",
       "   away_team_mean_offense_score  away_team_mean_midfield_score  \n",
       "0                          79.7                           81.8  \n",
       "1                          83.7                           85.2  \n",
       "2                          88.7                           91.2  \n",
       "3                          75.7                           70.2  \n",
       "4                          81.7                           65.8  \n",
       "\n",
       "[5 rows x 25 columns]"
      ]
     },
     "execution_count": 12,
     "metadata": {},
     "output_type": "execute_result"
    }
   ],
   "source": [
    "clean_data = data\n",
    "for i, col in enumerate(clean_data):\n",
    "    clean_data.iloc[:, i] = data.iloc[:, i].fillna(home_mean)\n",
    "    \n",
    "clean_data.head()"
   ]
  },
  {
   "cell_type": "code",
   "execution_count": 13,
   "metadata": {},
   "outputs": [
    {
     "data": {
      "text/html": [
       "<div>\n",
       "<style scoped>\n",
       "    .dataframe tbody tr th:only-of-type {\n",
       "        vertical-align: middle;\n",
       "    }\n",
       "\n",
       "    .dataframe tbody tr th {\n",
       "        vertical-align: top;\n",
       "    }\n",
       "\n",
       "    .dataframe thead th {\n",
       "        text-align: right;\n",
       "    }\n",
       "</style>\n",
       "<table border=\"1\" class=\"dataframe\">\n",
       "  <thead>\n",
       "    <tr style=\"text-align: right;\">\n",
       "      <th></th>\n",
       "      <th>date</th>\n",
       "      <th>home_team</th>\n",
       "      <th>away_team</th>\n",
       "      <th>home_team_continent</th>\n",
       "      <th>away_team_continent</th>\n",
       "      <th>home_team_fifa_rank</th>\n",
       "      <th>away_team_fifa_rank</th>\n",
       "      <th>home_team_total_fifa_points</th>\n",
       "      <th>away_team_total_fifa_points</th>\n",
       "      <th>home_team_score</th>\n",
       "      <th>...</th>\n",
       "      <th>shoot_out</th>\n",
       "      <th>home_team_result</th>\n",
       "      <th>home_team_goalkeeper_score</th>\n",
       "      <th>away_team_goalkeeper_score</th>\n",
       "      <th>home_team_mean_defense_score</th>\n",
       "      <th>home_team_mean_offense_score</th>\n",
       "      <th>home_team_mean_midfield_score</th>\n",
       "      <th>away_team_mean_defense_score</th>\n",
       "      <th>away_team_mean_offense_score</th>\n",
       "      <th>away_team_mean_midfield_score</th>\n",
       "    </tr>\n",
       "  </thead>\n",
       "  <tbody>\n",
       "  </tbody>\n",
       "</table>\n",
       "<p>0 rows × 25 columns</p>\n",
       "</div>"
      ],
      "text/plain": [
       "Empty DataFrame\n",
       "Columns: [date, home_team, away_team, home_team_continent, away_team_continent, home_team_fifa_rank, away_team_fifa_rank, home_team_total_fifa_points, away_team_total_fifa_points, home_team_score, away_team_score, tournament, city, country, neutral_location, shoot_out, home_team_result, home_team_goalkeeper_score, away_team_goalkeeper_score, home_team_mean_defense_score, home_team_mean_offense_score, home_team_mean_midfield_score, away_team_mean_defense_score, away_team_mean_offense_score, away_team_mean_midfield_score]\n",
       "Index: []\n",
       "\n",
       "[0 rows x 25 columns]"
      ]
     },
     "execution_count": 13,
     "metadata": {},
     "output_type": "execute_result"
    }
   ],
   "source": [
    "# checking if there are any remaining NaN values\n",
    "data_nan = clean_data[clean_data.isna().any(axis=1)]\n",
    "data_nan.head()"
   ]
  },
  {
   "cell_type": "markdown",
   "metadata": {},
   "source": [
    "Perfect! As we can see we have been able to replace all NaN values in the position scores section with the averages of the teams' scores."
   ]
  },
  {
   "cell_type": "markdown",
   "metadata": {},
   "source": [
    "### FIFA points cleanup\n",
    "\n",
    "Given the values equal to zero in the FIFA points columns, we want to understand better how to get clean them."
   ]
  },
  {
   "cell_type": "code",
   "execution_count": 14,
   "metadata": {},
   "outputs": [
    {
     "data": {
      "text/html": [
       "<div>\n",
       "<style scoped>\n",
       "    .dataframe tbody tr th:only-of-type {\n",
       "        vertical-align: middle;\n",
       "    }\n",
       "\n",
       "    .dataframe tbody tr th {\n",
       "        vertical-align: top;\n",
       "    }\n",
       "\n",
       "    .dataframe thead th {\n",
       "        text-align: right;\n",
       "    }\n",
       "</style>\n",
       "<table border=\"1\" class=\"dataframe\">\n",
       "  <thead>\n",
       "    <tr style=\"text-align: right;\">\n",
       "      <th></th>\n",
       "      <th>date</th>\n",
       "      <th>home_team</th>\n",
       "      <th>away_team</th>\n",
       "      <th>home_team_continent</th>\n",
       "      <th>away_team_continent</th>\n",
       "      <th>home_team_fifa_rank</th>\n",
       "      <th>away_team_fifa_rank</th>\n",
       "      <th>home_team_total_fifa_points</th>\n",
       "      <th>away_team_total_fifa_points</th>\n",
       "      <th>home_team_score</th>\n",
       "      <th>...</th>\n",
       "      <th>shoot_out</th>\n",
       "      <th>home_team_result</th>\n",
       "      <th>home_team_goalkeeper_score</th>\n",
       "      <th>away_team_goalkeeper_score</th>\n",
       "      <th>home_team_mean_defense_score</th>\n",
       "      <th>home_team_mean_offense_score</th>\n",
       "      <th>home_team_mean_midfield_score</th>\n",
       "      <th>away_team_mean_defense_score</th>\n",
       "      <th>away_team_mean_offense_score</th>\n",
       "      <th>away_team_mean_midfield_score</th>\n",
       "    </tr>\n",
       "  </thead>\n",
       "  <tbody>\n",
       "    <tr>\n",
       "      <th>2017</th>\n",
       "      <td>2011-08-27</td>\n",
       "      <td>Angola</td>\n",
       "      <td>Congo DR</td>\n",
       "      <td>Africa</td>\n",
       "      <td>Africa</td>\n",
       "      <td>96</td>\n",
       "      <td>127</td>\n",
       "      <td>338</td>\n",
       "      <td>221</td>\n",
       "      <td>1</td>\n",
       "      <td>...</td>\n",
       "      <td>No</td>\n",
       "      <td>Lose</td>\n",
       "      <td>70.0</td>\n",
       "      <td>67.066667</td>\n",
       "      <td>67.066667</td>\n",
       "      <td>69.7</td>\n",
       "      <td>61.5</td>\n",
       "      <td>69.2</td>\n",
       "      <td>69.7</td>\n",
       "      <td>70.0</td>\n",
       "    </tr>\n",
       "    <tr>\n",
       "      <th>2018</th>\n",
       "      <td>2011-09-02</td>\n",
       "      <td>Albania</td>\n",
       "      <td>France</td>\n",
       "      <td>Europe</td>\n",
       "      <td>Europe</td>\n",
       "      <td>57</td>\n",
       "      <td>15</td>\n",
       "      <td>546</td>\n",
       "      <td>918</td>\n",
       "      <td>1</td>\n",
       "      <td>...</td>\n",
       "      <td>No</td>\n",
       "      <td>Lose</td>\n",
       "      <td>70.0</td>\n",
       "      <td>86.000000</td>\n",
       "      <td>70.400000</td>\n",
       "      <td>69.7</td>\n",
       "      <td>71.5</td>\n",
       "      <td>82.5</td>\n",
       "      <td>83.0</td>\n",
       "      <td>84.5</td>\n",
       "    </tr>\n",
       "    <tr>\n",
       "      <th>2019</th>\n",
       "      <td>2011-09-02</td>\n",
       "      <td>Argentina</td>\n",
       "      <td>Venezuela</td>\n",
       "      <td>South America</td>\n",
       "      <td>South America</td>\n",
       "      <td>9</td>\n",
       "      <td>44</td>\n",
       "      <td>1016</td>\n",
       "      <td>615</td>\n",
       "      <td>1</td>\n",
       "      <td>...</td>\n",
       "      <td>No</td>\n",
       "      <td>Win</td>\n",
       "      <td>77.0</td>\n",
       "      <td>64.000000</td>\n",
       "      <td>80.800000</td>\n",
       "      <td>88.3</td>\n",
       "      <td>85.2</td>\n",
       "      <td>72.2</td>\n",
       "      <td>73.7</td>\n",
       "      <td>75.5</td>\n",
       "    </tr>\n",
       "    <tr>\n",
       "      <th>2020</th>\n",
       "      <td>2011-09-02</td>\n",
       "      <td>Belarus</td>\n",
       "      <td>Bosnia and Herzegovina</td>\n",
       "      <td>Europe</td>\n",
       "      <td>Europe</td>\n",
       "      <td>41</td>\n",
       "      <td>39</td>\n",
       "      <td>645</td>\n",
       "      <td>655</td>\n",
       "      <td>0</td>\n",
       "      <td>...</td>\n",
       "      <td>No</td>\n",
       "      <td>Lose</td>\n",
       "      <td>75.0</td>\n",
       "      <td>76.000000</td>\n",
       "      <td>63.200000</td>\n",
       "      <td>67.3</td>\n",
       "      <td>68.0</td>\n",
       "      <td>72.0</td>\n",
       "      <td>77.7</td>\n",
       "      <td>78.0</td>\n",
       "    </tr>\n",
       "    <tr>\n",
       "      <th>2021</th>\n",
       "      <td>2011-09-02</td>\n",
       "      <td>Bulgaria</td>\n",
       "      <td>England</td>\n",
       "      <td>Europe</td>\n",
       "      <td>Europe</td>\n",
       "      <td>51</td>\n",
       "      <td>4</td>\n",
       "      <td>585</td>\n",
       "      <td>1176</td>\n",
       "      <td>0</td>\n",
       "      <td>...</td>\n",
       "      <td>No</td>\n",
       "      <td>Lose</td>\n",
       "      <td>80.0</td>\n",
       "      <td>83.000000</td>\n",
       "      <td>70.800000</td>\n",
       "      <td>73.7</td>\n",
       "      <td>73.5</td>\n",
       "      <td>84.0</td>\n",
       "      <td>81.3</td>\n",
       "      <td>85.8</td>\n",
       "    </tr>\n",
       "  </tbody>\n",
       "</table>\n",
       "<p>5 rows × 25 columns</p>\n",
       "</div>"
      ],
      "text/plain": [
       "            date  home_team               away_team home_team_continent  \\\n",
       "2017  2011-08-27     Angola                Congo DR              Africa   \n",
       "2018  2011-09-02    Albania                  France              Europe   \n",
       "2019  2011-09-02  Argentina               Venezuela       South America   \n",
       "2020  2011-09-02    Belarus  Bosnia and Herzegovina              Europe   \n",
       "2021  2011-09-02   Bulgaria                 England              Europe   \n",
       "\n",
       "     away_team_continent  home_team_fifa_rank  away_team_fifa_rank  \\\n",
       "2017              Africa                   96                  127   \n",
       "2018              Europe                   57                   15   \n",
       "2019       South America                    9                   44   \n",
       "2020              Europe                   41                   39   \n",
       "2021              Europe                   51                    4   \n",
       "\n",
       "      home_team_total_fifa_points  away_team_total_fifa_points  \\\n",
       "2017                          338                          221   \n",
       "2018                          546                          918   \n",
       "2019                         1016                          615   \n",
       "2020                          645                          655   \n",
       "2021                          585                         1176   \n",
       "\n",
       "      home_team_score  ...  shoot_out home_team_result  \\\n",
       "2017                1  ...         No             Lose   \n",
       "2018                1  ...         No             Lose   \n",
       "2019                1  ...         No              Win   \n",
       "2020                0  ...         No             Lose   \n",
       "2021                0  ...         No             Lose   \n",
       "\n",
       "     home_team_goalkeeper_score away_team_goalkeeper_score  \\\n",
       "2017                       70.0                  67.066667   \n",
       "2018                       70.0                  86.000000   \n",
       "2019                       77.0                  64.000000   \n",
       "2020                       75.0                  76.000000   \n",
       "2021                       80.0                  83.000000   \n",
       "\n",
       "      home_team_mean_defense_score home_team_mean_offense_score  \\\n",
       "2017                     67.066667                         69.7   \n",
       "2018                     70.400000                         69.7   \n",
       "2019                     80.800000                         88.3   \n",
       "2020                     63.200000                         67.3   \n",
       "2021                     70.800000                         73.7   \n",
       "\n",
       "     home_team_mean_midfield_score  away_team_mean_defense_score  \\\n",
       "2017                          61.5                          69.2   \n",
       "2018                          71.5                          82.5   \n",
       "2019                          85.2                          72.2   \n",
       "2020                          68.0                          72.0   \n",
       "2021                          73.5                          84.0   \n",
       "\n",
       "      away_team_mean_offense_score  away_team_mean_midfield_score  \n",
       "2017                          69.7                           70.0  \n",
       "2018                          83.0                           84.5  \n",
       "2019                          73.7                           75.5  \n",
       "2020                          77.7                           78.0  \n",
       "2021                          81.3                           85.8  \n",
       "\n",
       "[5 rows x 25 columns]"
      ]
     },
     "execution_count": 14,
     "metadata": {},
     "output_type": "execute_result"
    }
   ],
   "source": [
    "# indentifying the data with FIFA points\n",
    "mask = clean_data['date'] > dt.date(2011, 8, 10)\n",
    "data_post2011 = clean_data.loc[mask]\n",
    "\n",
    "data_post2011.head()"
   ]
  },
  {
   "cell_type": "code",
   "execution_count": 15,
   "metadata": {},
   "outputs": [
    {
     "data": {
      "image/png": "[encoded data removed]",
      "text/plain": [
       "<Figure size 432x288 with 2 Axes>"
      ]
     },
     "metadata": {
      "needs_background": "light"
     },
     "output_type": "display_data"
    }
   ],
   "source": [
    "corr = data_post2011.corr()\n",
    "\n",
    "heatmap(corr)\n",
    "\n",
    "plt.show()"
   ]
  },
  {
   "cell_type": "markdown",
   "metadata": {},
   "source": [
    "Interesting... it seems like there are some higher correlations between FIFA rank and FIFA points when data is nonzero."
   ]
  },
  {
   "cell_type": "code",
   "execution_count": 16,
   "metadata": {},
   "outputs": [
    {
     "data": {
      "image/png": "[encoded data removed]",
      "text/plain": [
       "<Figure size 432x288 with 2 Axes>"
      ]
     },
     "metadata": {
      "needs_background": "light"
     },
     "output_type": "display_data"
    }
   ],
   "source": [
    "# compute correlations between features\n",
    "corr = data_post2011[['home_team_fifa_rank', \\\n",
    "                      'away_team_fifa_rank', \\\n",
    "                      'home_team_total_fifa_points', \\\n",
    "                      'away_team_total_fifa_points']].corr()\n",
    "\n",
    "heatmap(corr, annot=True)\n",
    "\n",
    "plt.show()"
   ]
  },
  {
   "cell_type": "markdown",
   "metadata": {},
   "source": [
    "Given the high correlation between FIFA rank and FIFA points, it seems like we can drop the FIFA points column with little impact on the performance of the model."
   ]
  },
  {
   "cell_type": "code",
   "execution_count": 17,
   "metadata": {},
   "outputs": [
    {
     "data": {
      "text/html": [
       "<div>\n",
       "<style scoped>\n",
       "    .dataframe tbody tr th:only-of-type {\n",
       "        vertical-align: middle;\n",
       "    }\n",
       "\n",
       "    .dataframe tbody tr th {\n",
       "        vertical-align: top;\n",
       "    }\n",
       "\n",
       "    .dataframe thead th {\n",
       "        text-align: right;\n",
       "    }\n",
       "</style>\n",
       "<table border=\"1\" class=\"dataframe\">\n",
       "  <thead>\n",
       "    <tr style=\"text-align: right;\">\n",
       "      <th></th>\n",
       "      <th>date</th>\n",
       "      <th>home_team</th>\n",
       "      <th>away_team</th>\n",
       "      <th>home_team_continent</th>\n",
       "      <th>away_team_continent</th>\n",
       "      <th>home_team_fifa_rank</th>\n",
       "      <th>away_team_fifa_rank</th>\n",
       "      <th>home_team_score</th>\n",
       "      <th>away_team_score</th>\n",
       "      <th>tournament</th>\n",
       "      <th>...</th>\n",
       "      <th>shoot_out</th>\n",
       "      <th>home_team_result</th>\n",
       "      <th>home_team_goalkeeper_score</th>\n",
       "      <th>away_team_goalkeeper_score</th>\n",
       "      <th>home_team_mean_defense_score</th>\n",
       "      <th>home_team_mean_offense_score</th>\n",
       "      <th>home_team_mean_midfield_score</th>\n",
       "      <th>away_team_mean_defense_score</th>\n",
       "      <th>away_team_mean_offense_score</th>\n",
       "      <th>away_team_mean_midfield_score</th>\n",
       "    </tr>\n",
       "  </thead>\n",
       "  <tbody>\n",
       "    <tr>\n",
       "      <th>0</th>\n",
       "      <td>2004-09-03</td>\n",
       "      <td>Spain</td>\n",
       "      <td>Scotland</td>\n",
       "      <td>Europe</td>\n",
       "      <td>Europe</td>\n",
       "      <td>3</td>\n",
       "      <td>67</td>\n",
       "      <td>1</td>\n",
       "      <td>1</td>\n",
       "      <td>Friendly</td>\n",
       "      <td>...</td>\n",
       "      <td>No</td>\n",
       "      <td>Draw</td>\n",
       "      <td>94.00</td>\n",
       "      <td>84.0</td>\n",
       "      <td>86.50</td>\n",
       "      <td>89.3</td>\n",
       "      <td>89.5</td>\n",
       "      <td>80.2</td>\n",
       "      <td>79.7</td>\n",
       "      <td>81.8</td>\n",
       "    </tr>\n",
       "    <tr>\n",
       "      <th>1</th>\n",
       "      <td>2004-09-04</td>\n",
       "      <td>Albania</td>\n",
       "      <td>Greece</td>\n",
       "      <td>Europe</td>\n",
       "      <td>Europe</td>\n",
       "      <td>94</td>\n",
       "      <td>14</td>\n",
       "      <td>2</td>\n",
       "      <td>1</td>\n",
       "      <td>FIFA World Cup qualification</td>\n",
       "      <td>...</td>\n",
       "      <td>No</td>\n",
       "      <td>Win</td>\n",
       "      <td>66.75</td>\n",
       "      <td>90.0</td>\n",
       "      <td>66.75</td>\n",
       "      <td>59.0</td>\n",
       "      <td>74.5</td>\n",
       "      <td>82.8</td>\n",
       "      <td>83.7</td>\n",
       "      <td>85.2</td>\n",
       "    </tr>\n",
       "    <tr>\n",
       "      <th>2</th>\n",
       "      <td>2004-09-04</td>\n",
       "      <td>Austria</td>\n",
       "      <td>England</td>\n",
       "      <td>Europe</td>\n",
       "      <td>Europe</td>\n",
       "      <td>90</td>\n",
       "      <td>7</td>\n",
       "      <td>2</td>\n",
       "      <td>2</td>\n",
       "      <td>FIFA World Cup qualification</td>\n",
       "      <td>...</td>\n",
       "      <td>No</td>\n",
       "      <td>Draw</td>\n",
       "      <td>83.00</td>\n",
       "      <td>88.0</td>\n",
       "      <td>76.20</td>\n",
       "      <td>73.0</td>\n",
       "      <td>74.0</td>\n",
       "      <td>90.5</td>\n",
       "      <td>88.7</td>\n",
       "      <td>91.2</td>\n",
       "    </tr>\n",
       "    <tr>\n",
       "      <th>3</th>\n",
       "      <td>2004-09-04</td>\n",
       "      <td>Croatia</td>\n",
       "      <td>Hungary</td>\n",
       "      <td>Europe</td>\n",
       "      <td>Europe</td>\n",
       "      <td>25</td>\n",
       "      <td>76</td>\n",
       "      <td>3</td>\n",
       "      <td>0</td>\n",
       "      <td>FIFA World Cup qualification</td>\n",
       "      <td>...</td>\n",
       "      <td>No</td>\n",
       "      <td>Win</td>\n",
       "      <td>77.00</td>\n",
       "      <td>74.0</td>\n",
       "      <td>80.50</td>\n",
       "      <td>78.7</td>\n",
       "      <td>79.0</td>\n",
       "      <td>71.8</td>\n",
       "      <td>75.7</td>\n",
       "      <td>70.2</td>\n",
       "    </tr>\n",
       "    <tr>\n",
       "      <th>4</th>\n",
       "      <td>2004-09-04</td>\n",
       "      <td>Denmark</td>\n",
       "      <td>Ukraine</td>\n",
       "      <td>Europe</td>\n",
       "      <td>Europe</td>\n",
       "      <td>15</td>\n",
       "      <td>87</td>\n",
       "      <td>1</td>\n",
       "      <td>1</td>\n",
       "      <td>FIFA World Cup qualification</td>\n",
       "      <td>...</td>\n",
       "      <td>No</td>\n",
       "      <td>Draw</td>\n",
       "      <td>82.00</td>\n",
       "      <td>82.0</td>\n",
       "      <td>79.50</td>\n",
       "      <td>85.0</td>\n",
       "      <td>81.5</td>\n",
       "      <td>82.0</td>\n",
       "      <td>81.7</td>\n",
       "      <td>65.8</td>\n",
       "    </tr>\n",
       "  </tbody>\n",
       "</table>\n",
       "<p>5 rows × 23 columns</p>\n",
       "</div>"
      ],
      "text/plain": [
       "         date home_team away_team home_team_continent away_team_continent  \\\n",
       "0  2004-09-03     Spain  Scotland              Europe              Europe   \n",
       "1  2004-09-04   Albania    Greece              Europe              Europe   \n",
       "2  2004-09-04   Austria   England              Europe              Europe   \n",
       "3  2004-09-04   Croatia   Hungary              Europe              Europe   \n",
       "4  2004-09-04   Denmark   Ukraine              Europe              Europe   \n",
       "\n",
       "   home_team_fifa_rank  away_team_fifa_rank  home_team_score  away_team_score  \\\n",
       "0                    3                   67                1                1   \n",
       "1                   94                   14                2                1   \n",
       "2                   90                    7                2                2   \n",
       "3                   25                   76                3                0   \n",
       "4                   15                   87                1                1   \n",
       "\n",
       "                     tournament  ... shoot_out home_team_result  \\\n",
       "0                      Friendly  ...        No             Draw   \n",
       "1  FIFA World Cup qualification  ...        No              Win   \n",
       "2  FIFA World Cup qualification  ...        No             Draw   \n",
       "3  FIFA World Cup qualification  ...        No              Win   \n",
       "4  FIFA World Cup qualification  ...        No             Draw   \n",
       "\n",
       "   home_team_goalkeeper_score away_team_goalkeeper_score  \\\n",
       "0                       94.00                       84.0   \n",
       "1                       66.75                       90.0   \n",
       "2                       83.00                       88.0   \n",
       "3                       77.00                       74.0   \n",
       "4                       82.00                       82.0   \n",
       "\n",
       "  home_team_mean_defense_score  home_team_mean_offense_score  \\\n",
       "0                        86.50                          89.3   \n",
       "1                        66.75                          59.0   \n",
       "2                        76.20                          73.0   \n",
       "3                        80.50                          78.7   \n",
       "4                        79.50                          85.0   \n",
       "\n",
       "   home_team_mean_midfield_score  away_team_mean_defense_score  \\\n",
       "0                           89.5                          80.2   \n",
       "1                           74.5                          82.8   \n",
       "2                           74.0                          90.5   \n",
       "3                           79.0                          71.8   \n",
       "4                           81.5                          82.0   \n",
       "\n",
       "   away_team_mean_offense_score  away_team_mean_midfield_score  \n",
       "0                          79.7                           81.8  \n",
       "1                          83.7                           85.2  \n",
       "2                          88.7                           91.2  \n",
       "3                          75.7                           70.2  \n",
       "4                          81.7                           65.8  \n",
       "\n",
       "[5 rows x 23 columns]"
      ]
     },
     "execution_count": 17,
     "metadata": {},
     "output_type": "execute_result"
    }
   ],
   "source": [
    "clean_data = clean_data.drop(columns=['home_team_total_fifa_points','away_team_total_fifa_points'])\n",
    "clean_data.head()"
   ]
  },
  {
   "cell_type": "markdown",
   "metadata": {},
   "source": [
    "### Other cleanup\n",
    "\n",
    "In order to feed the model the right data, we clean up further by dropping the date, continents, tournament, city, country and neutral location."
   ]
  },
  {
   "cell_type": "code",
   "execution_count": 18,
   "metadata": {},
   "outputs": [],
   "source": [
    "# TEST"
   ]
  },
  {
   "cell_type": "code",
   "execution_count": 19,
   "metadata": {},
   "outputs": [],
   "source": [
    "clean_data1 = clean_data"
   ]
  },
  {
   "cell_type": "code",
   "execution_count": 20,
   "metadata": {},
   "outputs": [
    {
     "data": {
      "text/plain": [
       "array(['Europe', 'Africa', 'South America', 'North America', 'Oceania',\n",
       "       'Asia'], dtype=object)"
      ]
     },
     "execution_count": 20,
     "metadata": {},
     "output_type": "execute_result"
    }
   ],
   "source": [
    "# Continents\n",
    "clean_data1['home_team_continent'].unique()"
   ]
  },
  {
   "cell_type": "code",
   "execution_count": 21,
   "metadata": {},
   "outputs": [],
   "source": [
    "clean_data1['home_team_continent'] = clean_data1['home_team_continent'].map({'Europe':1, \\\n",
    "                                                                             'Africa':2, \\\n",
    "                                                                             'South America':3, \\\n",
    "                                                                             'North America':4, \\\n",
    "                                                                             'Oceania':5, \\\n",
    "                                                                             'Asia':6})\n",
    "clean_data1['away_team_continent'] = clean_data1['away_team_continent'].map({'Europe':1, \\\n",
    "                                                                             'Africa':2, \\\n",
    "                                                                             'South America':3, \\\n",
    "                                                                             'North America':4, \\\n",
    "                                                                             'Oceania':5, \\\n",
    "                                                                             'Asia':6})"
   ]
  },
  {
   "cell_type": "code",
   "execution_count": 22,
   "metadata": {},
   "outputs": [
    {
     "data": {
      "text/plain": [
       "array(['Friendly', 'FIFA World Cup qualification', \"King's Cup\",\n",
       "       'CFU Caribbean Cup', 'Confederations Cup', 'Gold Cup',\n",
       "       'EAFF Championship', 'African Cup of Nations',\n",
       "       'Lunar New Year Cup', 'Cyprus International Tournament',\n",
       "       'Kirin Cup', 'FIFA World Cup', 'UEFA Euro qualification',\n",
       "       'African Cup of Nations qualification', 'Copa del Pacífico',\n",
       "       'Copa América', 'AFC Asian Cup', 'UEFA Euro', 'COSAFA Cup',\n",
       "       'Baltic Cup', 'UNCAF Cup', 'Nations Cup', 'Copa Confraternidad',\n",
       "       'Superclásico de las Américas', 'Nehru Cup',\n",
       "       'African Nations Championship', 'Kirin Challenge Cup', 'OSN Cup',\n",
       "       'CFU Caribbean Cup qualification', 'Intercontinental Cup',\n",
       "       'UEFA Nations League',\n",
       "       'African Nations Championship qualification',\n",
       "       'CONCACAF Nations League', 'Arab Cup'], dtype=object)"
      ]
     },
     "execution_count": 22,
     "metadata": {},
     "output_type": "execute_result"
    }
   ],
   "source": [
    "# Tournament\n",
    "clean_data1['tournament'].unique()"
   ]
  },
  {
   "cell_type": "code",
   "execution_count": 23,
   "metadata": {},
   "outputs": [],
   "source": [
    "clean_data1['tournament'] = (clean_data1['tournament'] == 'Friendly').astype(int) # 1 Friendly 0 Else"
   ]
  },
  {
   "cell_type": "code",
   "execution_count": 24,
   "metadata": {},
   "outputs": [],
   "source": [
    "# Drop city and country\n",
    "clean_data1 = clean_data1.drop(columns=['date', 'city', 'country'])"
   ]
  },
  {
   "cell_type": "code",
   "execution_count": 25,
   "metadata": {},
   "outputs": [
    {
     "data": {
      "text/plain": [
       "array([False,  True])"
      ]
     },
     "execution_count": 25,
     "metadata": {},
     "output_type": "execute_result"
    }
   ],
   "source": [
    "# Neutral location\n",
    "clean_data1['neutral_location'].unique()"
   ]
  },
  {
   "cell_type": "code",
   "execution_count": 26,
   "metadata": {},
   "outputs": [],
   "source": [
    "clean_data1['neutral_location'] = clean_data1['neutral_location'].map({True:1, False:0})"
   ]
  },
  {
   "cell_type": "code",
   "execution_count": 27,
   "metadata": {},
   "outputs": [
    {
     "data": {
      "text/plain": [
       "array(['No', 'Yes'], dtype=object)"
      ]
     },
     "execution_count": 27,
     "metadata": {},
     "output_type": "execute_result"
    }
   ],
   "source": [
    "# Shoot out\n",
    "clean_data1['shoot_out'].unique()"
   ]
  },
  {
   "cell_type": "code",
   "execution_count": 28,
   "metadata": {},
   "outputs": [],
   "source": [
    "clean_data1['shoot_out'] = clean_data1['shoot_out'].map({'Yes':1, 'No':0})"
   ]
  },
  {
   "cell_type": "code",
   "execution_count": 29,
   "metadata": {},
   "outputs": [
    {
     "data": {
      "text/plain": [
       "array(['Draw', 'Win', 'Lose'], dtype=object)"
      ]
     },
     "execution_count": 29,
     "metadata": {},
     "output_type": "execute_result"
    }
   ],
   "source": [
    "# Home team result\n",
    "clean_data1['home_team_result'].unique()"
   ]
  },
  {
   "cell_type": "code",
   "execution_count": 30,
   "metadata": {},
   "outputs": [],
   "source": [
    "clean_data1['home_team_result'] = clean_data1['home_team_result'].map({'Win':1, 'Draw':0, 'Lose':-1})"
   ]
  },
  {
   "cell_type": "code",
   "execution_count": 31,
   "metadata": {},
   "outputs": [],
   "source": [
    "clean_data1 = clean_data1.drop(columns=['home_team_score','away_team_score'])"
   ]
  },
  {
   "cell_type": "code",
   "execution_count": 32,
   "metadata": {},
   "outputs": [
    {
     "data": {
      "text/html": [
       "<div>\n",
       "<style scoped>\n",
       "    .dataframe tbody tr th:only-of-type {\n",
       "        vertical-align: middle;\n",
       "    }\n",
       "\n",
       "    .dataframe tbody tr th {\n",
       "        vertical-align: top;\n",
       "    }\n",
       "\n",
       "    .dataframe thead th {\n",
       "        text-align: right;\n",
       "    }\n",
       "</style>\n",
       "<table border=\"1\" class=\"dataframe\">\n",
       "  <thead>\n",
       "    <tr style=\"text-align: right;\">\n",
       "      <th></th>\n",
       "      <th>home_team</th>\n",
       "      <th>away_team</th>\n",
       "      <th>home_team_continent</th>\n",
       "      <th>away_team_continent</th>\n",
       "      <th>home_team_fifa_rank</th>\n",
       "      <th>away_team_fifa_rank</th>\n",
       "      <th>tournament</th>\n",
       "      <th>neutral_location</th>\n",
       "      <th>shoot_out</th>\n",
       "      <th>home_team_result</th>\n",
       "      <th>home_team_goalkeeper_score</th>\n",
       "      <th>away_team_goalkeeper_score</th>\n",
       "      <th>home_team_mean_defense_score</th>\n",
       "      <th>home_team_mean_offense_score</th>\n",
       "      <th>home_team_mean_midfield_score</th>\n",
       "      <th>away_team_mean_defense_score</th>\n",
       "      <th>away_team_mean_offense_score</th>\n",
       "      <th>away_team_mean_midfield_score</th>\n",
       "    </tr>\n",
       "  </thead>\n",
       "  <tbody>\n",
       "    <tr>\n",
       "      <th>0</th>\n",
       "      <td>Spain</td>\n",
       "      <td>Scotland</td>\n",
       "      <td>1</td>\n",
       "      <td>1</td>\n",
       "      <td>3</td>\n",
       "      <td>67</td>\n",
       "      <td>1</td>\n",
       "      <td>0</td>\n",
       "      <td>0</td>\n",
       "      <td>0</td>\n",
       "      <td>94.00</td>\n",
       "      <td>84.0</td>\n",
       "      <td>86.50</td>\n",
       "      <td>89.3</td>\n",
       "      <td>89.5</td>\n",
       "      <td>80.2</td>\n",
       "      <td>79.7</td>\n",
       "      <td>81.8</td>\n",
       "    </tr>\n",
       "    <tr>\n",
       "      <th>1</th>\n",
       "      <td>Albania</td>\n",
       "      <td>Greece</td>\n",
       "      <td>1</td>\n",
       "      <td>1</td>\n",
       "      <td>94</td>\n",
       "      <td>14</td>\n",
       "      <td>0</td>\n",
       "      <td>0</td>\n",
       "      <td>0</td>\n",
       "      <td>1</td>\n",
       "      <td>66.75</td>\n",
       "      <td>90.0</td>\n",
       "      <td>66.75</td>\n",
       "      <td>59.0</td>\n",
       "      <td>74.5</td>\n",
       "      <td>82.8</td>\n",
       "      <td>83.7</td>\n",
       "      <td>85.2</td>\n",
       "    </tr>\n",
       "    <tr>\n",
       "      <th>2</th>\n",
       "      <td>Austria</td>\n",
       "      <td>England</td>\n",
       "      <td>1</td>\n",
       "      <td>1</td>\n",
       "      <td>90</td>\n",
       "      <td>7</td>\n",
       "      <td>0</td>\n",
       "      <td>0</td>\n",
       "      <td>0</td>\n",
       "      <td>0</td>\n",
       "      <td>83.00</td>\n",
       "      <td>88.0</td>\n",
       "      <td>76.20</td>\n",
       "      <td>73.0</td>\n",
       "      <td>74.0</td>\n",
       "      <td>90.5</td>\n",
       "      <td>88.7</td>\n",
       "      <td>91.2</td>\n",
       "    </tr>\n",
       "    <tr>\n",
       "      <th>3</th>\n",
       "      <td>Croatia</td>\n",
       "      <td>Hungary</td>\n",
       "      <td>1</td>\n",
       "      <td>1</td>\n",
       "      <td>25</td>\n",
       "      <td>76</td>\n",
       "      <td>0</td>\n",
       "      <td>0</td>\n",
       "      <td>0</td>\n",
       "      <td>1</td>\n",
       "      <td>77.00</td>\n",
       "      <td>74.0</td>\n",
       "      <td>80.50</td>\n",
       "      <td>78.7</td>\n",
       "      <td>79.0</td>\n",
       "      <td>71.8</td>\n",
       "      <td>75.7</td>\n",
       "      <td>70.2</td>\n",
       "    </tr>\n",
       "    <tr>\n",
       "      <th>4</th>\n",
       "      <td>Denmark</td>\n",
       "      <td>Ukraine</td>\n",
       "      <td>1</td>\n",
       "      <td>1</td>\n",
       "      <td>15</td>\n",
       "      <td>87</td>\n",
       "      <td>0</td>\n",
       "      <td>0</td>\n",
       "      <td>0</td>\n",
       "      <td>0</td>\n",
       "      <td>82.00</td>\n",
       "      <td>82.0</td>\n",
       "      <td>79.50</td>\n",
       "      <td>85.0</td>\n",
       "      <td>81.5</td>\n",
       "      <td>82.0</td>\n",
       "      <td>81.7</td>\n",
       "      <td>65.8</td>\n",
       "    </tr>\n",
       "  </tbody>\n",
       "</table>\n",
       "</div>"
      ],
      "text/plain": [
       "  home_team away_team  home_team_continent  away_team_continent  \\\n",
       "0     Spain  Scotland                    1                    1   \n",
       "1   Albania    Greece                    1                    1   \n",
       "2   Austria   England                    1                    1   \n",
       "3   Croatia   Hungary                    1                    1   \n",
       "4   Denmark   Ukraine                    1                    1   \n",
       "\n",
       "   home_team_fifa_rank  away_team_fifa_rank  tournament  neutral_location  \\\n",
       "0                    3                   67           1                 0   \n",
       "1                   94                   14           0                 0   \n",
       "2                   90                    7           0                 0   \n",
       "3                   25                   76           0                 0   \n",
       "4                   15                   87           0                 0   \n",
       "\n",
       "   shoot_out  home_team_result  home_team_goalkeeper_score  \\\n",
       "0          0                 0                       94.00   \n",
       "1          0                 1                       66.75   \n",
       "2          0                 0                       83.00   \n",
       "3          0                 1                       77.00   \n",
       "4          0                 0                       82.00   \n",
       "\n",
       "   away_team_goalkeeper_score  home_team_mean_defense_score  \\\n",
       "0                        84.0                         86.50   \n",
       "1                        90.0                         66.75   \n",
       "2                        88.0                         76.20   \n",
       "3                        74.0                         80.50   \n",
       "4                        82.0                         79.50   \n",
       "\n",
       "   home_team_mean_offense_score  home_team_mean_midfield_score  \\\n",
       "0                          89.3                           89.5   \n",
       "1                          59.0                           74.5   \n",
       "2                          73.0                           74.0   \n",
       "3                          78.7                           79.0   \n",
       "4                          85.0                           81.5   \n",
       "\n",
       "   away_team_mean_defense_score  away_team_mean_offense_score  \\\n",
       "0                          80.2                          79.7   \n",
       "1                          82.8                          83.7   \n",
       "2                          90.5                          88.7   \n",
       "3                          71.8                          75.7   \n",
       "4                          82.0                          81.7   \n",
       "\n",
       "   away_team_mean_midfield_score  \n",
       "0                           81.8  \n",
       "1                           85.2  \n",
       "2                           91.2  \n",
       "3                           70.2  \n",
       "4                           65.8  "
      ]
     },
     "execution_count": 32,
     "metadata": {},
     "output_type": "execute_result"
    }
   ],
   "source": [
    "clean_data1.head()"
   ]
  },
  {
   "cell_type": "code",
   "execution_count": 33,
   "metadata": {},
   "outputs": [
    {
     "data": {
      "image/png": "[encoded data removed]",
      "text/plain": [
       "<Figure size 432x288 with 2 Axes>"
      ]
     },
     "metadata": {
      "needs_background": "light"
     },
     "output_type": "display_data"
    }
   ],
   "source": [
    "corr = clean_data1.corr()\n",
    "\n",
    "heatmap(corr)\n",
    "\n",
    "plt.show()"
   ]
  },
  {
   "cell_type": "code",
   "execution_count": 34,
   "metadata": {},
   "outputs": [],
   "source": [
    "clean_data1 = clean_data1.drop(columns=['home_team_continent','away_team_continent'])"
   ]
  },
  {
   "cell_type": "code",
   "execution_count": 35,
   "metadata": {},
   "outputs": [
    {
     "name": "stdout",
     "output_type": "stream",
     "text": [
      "<class 'pandas.core.frame.DataFrame'>\n",
      "RangeIndex: 5641 entries, 0 to 5640\n",
      "Data columns (total 16 columns):\n",
      " #   Column                         Non-Null Count  Dtype  \n",
      "---  ------                         --------------  -----  \n",
      " 0   home_team                      5641 non-null   object \n",
      " 1   away_team                      5641 non-null   object \n",
      " 2   home_team_fifa_rank            5641 non-null   int64  \n",
      " 3   away_team_fifa_rank            5641 non-null   int64  \n",
      " 4   tournament                     5641 non-null   int64  \n",
      " 5   neutral_location               5641 non-null   int64  \n",
      " 6   shoot_out                      5641 non-null   int64  \n",
      " 7   home_team_result               5641 non-null   int64  \n",
      " 8   home_team_goalkeeper_score     5641 non-null   float64\n",
      " 9   away_team_goalkeeper_score     5641 non-null   float64\n",
      " 10  home_team_mean_defense_score   5641 non-null   float64\n",
      " 11  home_team_mean_offense_score   5641 non-null   float64\n",
      " 12  home_team_mean_midfield_score  5641 non-null   float64\n",
      " 13  away_team_mean_defense_score   5641 non-null   float64\n",
      " 14  away_team_mean_offense_score   5641 non-null   float64\n",
      " 15  away_team_mean_midfield_score  5641 non-null   float64\n",
      "dtypes: float64(8), int64(6), object(2)\n",
      "memory usage: 705.2+ KB\n"
     ]
    }
   ],
   "source": [
    "clean_data1.info()"
   ]
  },
  {
   "cell_type": "code",
   "execution_count": null,
   "metadata": {},
   "outputs": [],
   "source": [
    "# END OF TEST"
   ]
  },
  {
   "cell_type": "code",
   "execution_count": null,
   "metadata": {},
   "outputs": [],
   "source": []
  },
  {
   "cell_type": "code",
   "execution_count": null,
   "metadata": {},
   "outputs": [],
   "source": []
  },
  {
   "cell_type": "code",
   "execution_count": null,
   "metadata": {},
   "outputs": [],
   "source": []
  },
  {
   "cell_type": "code",
   "execution_count": null,
   "metadata": {},
   "outputs": [],
   "source": []
  },
  {
   "cell_type": "code",
   "execution_count": 18,
   "metadata": {},
   "outputs": [],
   "source": [
    "clean_data = clean_data.drop(columns=['date','home_team_continent','away_team_continent','tournament', 'city', 'country', 'neutral_location'])"
   ]
  },
  {
   "cell_type": "markdown",
   "metadata": {},
   "source": [
    "Moreover, we are not required to predict the score, only the outcome of the match, so we drop home and away scores, as well as shoot out, since it is not directly relevant to the outcome of the match."
   ]
  },
  {
   "cell_type": "code",
   "execution_count": 183,
   "metadata": {},
   "outputs": [],
   "source": [
    "clean_data = clean_data.drop(columns=['home_team_score','away_team_score','shoot_out'])"
   ]
  },
  {
   "cell_type": "markdown",
   "metadata": {},
   "source": [
    "Finally, we change the home team result for a quantitative value so that we can perform more rigurous quantitative analysis on it."
   ]
  },
  {
   "cell_type": "code",
   "execution_count": 184,
   "metadata": {},
   "outputs": [
    {
     "data": {
      "text/html": [
       "<div>\n",
       "<style scoped>\n",
       "    .dataframe tbody tr th:only-of-type {\n",
       "        vertical-align: middle;\n",
       "    }\n",
       "\n",
       "    .dataframe tbody tr th {\n",
       "        vertical-align: top;\n",
       "    }\n",
       "\n",
       "    .dataframe thead th {\n",
       "        text-align: right;\n",
       "    }\n",
       "</style>\n",
       "<table border=\"1\" class=\"dataframe\">\n",
       "  <thead>\n",
       "    <tr style=\"text-align: right;\">\n",
       "      <th></th>\n",
       "      <th>date</th>\n",
       "      <th>home_team</th>\n",
       "      <th>away_team</th>\n",
       "      <th>home_team_continent</th>\n",
       "      <th>away_team_continent</th>\n",
       "      <th>home_team_fifa_rank</th>\n",
       "      <th>away_team_fifa_rank</th>\n",
       "      <th>tournament</th>\n",
       "      <th>city</th>\n",
       "      <th>country</th>\n",
       "      <th>...</th>\n",
       "      <th>shoot_out</th>\n",
       "      <th>home_team_result</th>\n",
       "      <th>home_team_goalkeeper_score</th>\n",
       "      <th>away_team_goalkeeper_score</th>\n",
       "      <th>home_team_mean_defense_score</th>\n",
       "      <th>home_team_mean_offense_score</th>\n",
       "      <th>home_team_mean_midfield_score</th>\n",
       "      <th>away_team_mean_defense_score</th>\n",
       "      <th>away_team_mean_offense_score</th>\n",
       "      <th>away_team_mean_midfield_score</th>\n",
       "    </tr>\n",
       "  </thead>\n",
       "  <tbody>\n",
       "    <tr>\n",
       "      <th>0</th>\n",
       "      <td>2004-09-03</td>\n",
       "      <td>Spain</td>\n",
       "      <td>Scotland</td>\n",
       "      <td>Europe</td>\n",
       "      <td>Europe</td>\n",
       "      <td>3</td>\n",
       "      <td>67</td>\n",
       "      <td>Friendly</td>\n",
       "      <td>Valencia</td>\n",
       "      <td>Spain</td>\n",
       "      <td>...</td>\n",
       "      <td>No</td>\n",
       "      <td>0</td>\n",
       "      <td>94.00</td>\n",
       "      <td>84.0</td>\n",
       "      <td>86.50</td>\n",
       "      <td>89.3</td>\n",
       "      <td>89.5</td>\n",
       "      <td>80.2</td>\n",
       "      <td>79.7</td>\n",
       "      <td>81.8</td>\n",
       "    </tr>\n",
       "    <tr>\n",
       "      <th>1</th>\n",
       "      <td>2004-09-04</td>\n",
       "      <td>Albania</td>\n",
       "      <td>Greece</td>\n",
       "      <td>Europe</td>\n",
       "      <td>Europe</td>\n",
       "      <td>94</td>\n",
       "      <td>14</td>\n",
       "      <td>FIFA World Cup qualification</td>\n",
       "      <td>Tirana</td>\n",
       "      <td>Albania</td>\n",
       "      <td>...</td>\n",
       "      <td>No</td>\n",
       "      <td>1</td>\n",
       "      <td>66.75</td>\n",
       "      <td>90.0</td>\n",
       "      <td>66.75</td>\n",
       "      <td>59.0</td>\n",
       "      <td>74.5</td>\n",
       "      <td>82.8</td>\n",
       "      <td>83.7</td>\n",
       "      <td>85.2</td>\n",
       "    </tr>\n",
       "    <tr>\n",
       "      <th>2</th>\n",
       "      <td>2004-09-04</td>\n",
       "      <td>Austria</td>\n",
       "      <td>England</td>\n",
       "      <td>Europe</td>\n",
       "      <td>Europe</td>\n",
       "      <td>90</td>\n",
       "      <td>7</td>\n",
       "      <td>FIFA World Cup qualification</td>\n",
       "      <td>Vienna</td>\n",
       "      <td>Austria</td>\n",
       "      <td>...</td>\n",
       "      <td>No</td>\n",
       "      <td>0</td>\n",
       "      <td>83.00</td>\n",
       "      <td>88.0</td>\n",
       "      <td>76.20</td>\n",
       "      <td>73.0</td>\n",
       "      <td>74.0</td>\n",
       "      <td>90.5</td>\n",
       "      <td>88.7</td>\n",
       "      <td>91.2</td>\n",
       "    </tr>\n",
       "    <tr>\n",
       "      <th>3</th>\n",
       "      <td>2004-09-04</td>\n",
       "      <td>Croatia</td>\n",
       "      <td>Hungary</td>\n",
       "      <td>Europe</td>\n",
       "      <td>Europe</td>\n",
       "      <td>25</td>\n",
       "      <td>76</td>\n",
       "      <td>FIFA World Cup qualification</td>\n",
       "      <td>Zagreb</td>\n",
       "      <td>Croatia</td>\n",
       "      <td>...</td>\n",
       "      <td>No</td>\n",
       "      <td>1</td>\n",
       "      <td>77.00</td>\n",
       "      <td>74.0</td>\n",
       "      <td>80.50</td>\n",
       "      <td>78.7</td>\n",
       "      <td>79.0</td>\n",
       "      <td>71.8</td>\n",
       "      <td>75.7</td>\n",
       "      <td>70.2</td>\n",
       "    </tr>\n",
       "    <tr>\n",
       "      <th>4</th>\n",
       "      <td>2004-09-04</td>\n",
       "      <td>Denmark</td>\n",
       "      <td>Ukraine</td>\n",
       "      <td>Europe</td>\n",
       "      <td>Europe</td>\n",
       "      <td>15</td>\n",
       "      <td>87</td>\n",
       "      <td>FIFA World Cup qualification</td>\n",
       "      <td>Copenhagen</td>\n",
       "      <td>Denmark</td>\n",
       "      <td>...</td>\n",
       "      <td>No</td>\n",
       "      <td>0</td>\n",
       "      <td>82.00</td>\n",
       "      <td>82.0</td>\n",
       "      <td>79.50</td>\n",
       "      <td>85.0</td>\n",
       "      <td>81.5</td>\n",
       "      <td>82.0</td>\n",
       "      <td>81.7</td>\n",
       "      <td>65.8</td>\n",
       "    </tr>\n",
       "  </tbody>\n",
       "</table>\n",
       "<p>5 rows × 21 columns</p>\n",
       "</div>"
      ],
      "text/plain": [
       "         date home_team away_team home_team_continent away_team_continent  \\\n",
       "0  2004-09-03     Spain  Scotland              Europe              Europe   \n",
       "1  2004-09-04   Albania    Greece              Europe              Europe   \n",
       "2  2004-09-04   Austria   England              Europe              Europe   \n",
       "3  2004-09-04   Croatia   Hungary              Europe              Europe   \n",
       "4  2004-09-04   Denmark   Ukraine              Europe              Europe   \n",
       "\n",
       "   home_team_fifa_rank  away_team_fifa_rank                    tournament  \\\n",
       "0                    3                   67                      Friendly   \n",
       "1                   94                   14  FIFA World Cup qualification   \n",
       "2                   90                    7  FIFA World Cup qualification   \n",
       "3                   25                   76  FIFA World Cup qualification   \n",
       "4                   15                   87  FIFA World Cup qualification   \n",
       "\n",
       "         city  country  ...  shoot_out home_team_result  \\\n",
       "0    Valencia    Spain  ...         No                0   \n",
       "1      Tirana  Albania  ...         No                1   \n",
       "2      Vienna  Austria  ...         No                0   \n",
       "3      Zagreb  Croatia  ...         No                1   \n",
       "4  Copenhagen  Denmark  ...         No                0   \n",
       "\n",
       "   home_team_goalkeeper_score  away_team_goalkeeper_score  \\\n",
       "0                       94.00                        84.0   \n",
       "1                       66.75                        90.0   \n",
       "2                       83.00                        88.0   \n",
       "3                       77.00                        74.0   \n",
       "4                       82.00                        82.0   \n",
       "\n",
       "   home_team_mean_defense_score  home_team_mean_offense_score  \\\n",
       "0                         86.50                          89.3   \n",
       "1                         66.75                          59.0   \n",
       "2                         76.20                          73.0   \n",
       "3                         80.50                          78.7   \n",
       "4                         79.50                          85.0   \n",
       "\n",
       "   home_team_mean_midfield_score  away_team_mean_defense_score  \\\n",
       "0                           89.5                          80.2   \n",
       "1                           74.5                          82.8   \n",
       "2                           74.0                          90.5   \n",
       "3                           79.0                          71.8   \n",
       "4                           81.5                          82.0   \n",
       "\n",
       "   away_team_mean_offense_score  away_team_mean_midfield_score  \n",
       "0                          79.7                           81.8  \n",
       "1                          83.7                           85.2  \n",
       "2                          88.7                           91.2  \n",
       "3                          75.7                           70.2  \n",
       "4                          81.7                           65.8  \n",
       "\n",
       "[5 rows x 21 columns]"
      ]
     },
     "execution_count": 184,
     "metadata": {},
     "output_type": "execute_result"
    }
   ],
   "source": [
    "clean_data['home_team_result'] = clean_data['home_team_result'].map({'Win':1, 'Draw':0, 'Lose':-1})\n",
    "clean_data.head()"
   ]
  },
  {
   "cell_type": "code",
   "execution_count": 185,
   "metadata": {},
   "outputs": [
    {
     "name": "stdout",
     "output_type": "stream",
     "text": [
      "<class 'pandas.core.frame.DataFrame'>\n",
      "RangeIndex: 5641 entries, 0 to 5640\n",
      "Data columns (total 21 columns):\n",
      " #   Column                         Non-Null Count  Dtype  \n",
      "---  ------                         --------------  -----  \n",
      " 0   date                           5641 non-null   object \n",
      " 1   home_team                      5641 non-null   object \n",
      " 2   away_team                      5641 non-null   object \n",
      " 3   home_team_continent            5641 non-null   object \n",
      " 4   away_team_continent            5641 non-null   object \n",
      " 5   home_team_fifa_rank            5641 non-null   int64  \n",
      " 6   away_team_fifa_rank            5641 non-null   int64  \n",
      " 7   tournament                     5641 non-null   object \n",
      " 8   city                           5641 non-null   object \n",
      " 9   country                        5641 non-null   object \n",
      " 10  neutral_location               5641 non-null   bool   \n",
      " 11  shoot_out                      5641 non-null   object \n",
      " 12  home_team_result               5641 non-null   int64  \n",
      " 13  home_team_goalkeeper_score     5641 non-null   float64\n",
      " 14  away_team_goalkeeper_score     5641 non-null   float64\n",
      " 15  home_team_mean_defense_score   5641 non-null   float64\n",
      " 16  home_team_mean_offense_score   5641 non-null   float64\n",
      " 17  home_team_mean_midfield_score  5641 non-null   float64\n",
      " 18  away_team_mean_defense_score   5641 non-null   float64\n",
      " 19  away_team_mean_offense_score   5641 non-null   float64\n",
      " 20  away_team_mean_midfield_score  5641 non-null   float64\n",
      "dtypes: bool(1), float64(8), int64(3), object(9)\n",
      "memory usage: 887.0+ KB\n"
     ]
    }
   ],
   "source": [
    "clean_data.info()"
   ]
  },
  {
   "cell_type": "markdown",
   "metadata": {},
   "source": [
    "### Split the Data Set\n",
    "\n",
    "Before we start, we need to split the data set into a training set and a validation set, as well as selecting the relevant columns."
   ]
  },
  {
   "cell_type": "code",
   "execution_count": 36,
   "metadata": {},
   "outputs": [],
   "source": [
    "# convert team names into dummy/indicator variables\n",
    "clean_data1 = pd.get_dummies(clean_data1)\n",
    "\n",
    "# extract match result from dataset\n",
    "X = clean_data1.drop('home_team_result', axis=1)\n",
    "y = clean_data1['home_team_result']\n",
    "\n",
    "# split the dataset into training and validation\n",
    "X_train, X_val, y_train, y_val = train_test_split(X, y, test_size=0.2, random_state=33)\n",
    "#X_hold_test, X_test, y_hold_test, y_test = train_test_split(X_val, y_val, test_size=0.5, random_state=33)"
   ]
  },
  {
   "cell_type": "markdown",
   "metadata": {},
   "source": [
    "### Scale the Data Set:\n",
    "Next we standardise the data set since the features are reported on different scales. \n",
    "\n",
    "Common scaling techniques include normalisation and binarisation. \n",
    "\n",
    "`sklearn.preprocessing` provides various feature scaling modules (use `help(preprocessing)` to check the documentation of these modules). "
   ]
  },
  {
   "cell_type": "code",
   "execution_count": 37,
   "metadata": {},
   "outputs": [],
   "source": [
    "scaler = StandardScaler()\n",
    "X_train = scaler.fit_transform(X_train)\n",
    "X_val = scaler.transform(X_val)\n",
    "#X_hold_test = scaler.transform(X_hold_test)"
   ]
  },
  {
   "cell_type": "code",
   "execution_count": 38,
   "metadata": {},
   "outputs": [],
   "source": [
    "random_state = np.random.RandomState(33)"
   ]
  },
  {
   "cell_type": "markdown",
   "metadata": {},
   "source": [
    "We will now apply 9 algorithms to obtain results:\n",
    "1. "
   ]
  },
  {
   "cell_type": "markdown",
   "metadata": {},
   "source": [
    "### _Logistic Regression_"
   ]
  },
  {
   "cell_type": "code",
   "execution_count": 39,
   "metadata": {},
   "outputs": [
    {
     "name": "stdout",
     "output_type": "stream",
     "text": [
      "              precision    recall  f1-score   support\n",
      "\n",
      "          -1       0.50      0.52      0.51       336\n",
      "           0       0.30      0.10      0.15       297\n",
      "           1       0.55      0.76      0.64       496\n",
      "\n",
      "    accuracy                           0.51      1129\n",
      "   macro avg       0.45      0.46      0.43      1129\n",
      "weighted avg       0.47      0.51      0.47      1129\n",
      "\n"
     ]
    },
    {
     "data": {
      "image/png": "[encoded data removed]",
      "text/plain": [
       "<Figure size 432x288 with 2 Axes>"
      ]
     },
     "metadata": {
      "needs_background": "light"
     },
     "output_type": "display_data"
    }
   ],
   "source": [
    "lr = LogisticRegression(solver = 'lbfgs')\n",
    "lr.fit(X_train, y_train)\n",
    "y_lr = lr.predict(X_val)\n",
    "\n",
    "y_lr_prob = lr.predict_proba(X_val)[:, -1]  # probability estimates of the positive class\n",
    "y_lr_score = lr.decision_function(X_val)    # confidence scores\n",
    "\n",
    "print(classification_report(y_val,y_lr))\n",
    "ConfusionMatrixDisplay.from_predictions(y_val,y_lr);"
   ]
  },
  {
   "cell_type": "markdown",
   "metadata": {},
   "source": [
    "### _Naive Bayes_"
   ]
  },
  {
   "cell_type": "code",
   "execution_count": 40,
   "metadata": {},
   "outputs": [
    {
     "name": "stdout",
     "output_type": "stream",
     "text": [
      "              precision    recall  f1-score   support\n",
      "\n",
      "          -1       0.53      0.12      0.19       336\n",
      "           0       0.27      0.91      0.41       297\n",
      "           1       0.69      0.07      0.13       496\n",
      "\n",
      "    accuracy                           0.30      1129\n",
      "   macro avg       0.50      0.36      0.24      1129\n",
      "weighted avg       0.53      0.30      0.22      1129\n",
      "\n"
     ]
    },
    {
     "data": {
      "image/png": "[encoded data removed]",
      "text/plain": [
       "<Figure size 432x288 with 2 Axes>"
      ]
     },
     "metadata": {
      "needs_background": "light"
     },
     "output_type": "display_data"
    }
   ],
   "source": [
    "nb = GaussianNB()\n",
    "nb.fit(X_train, y_train)\n",
    "y_nb = nb.predict(X_val)\n",
    "\n",
    "print(classification_report(y_val,y_nb))\n",
    "ConfusionMatrixDisplay.from_predictions(y_val,y_nb);"
   ]
  },
  {
   "cell_type": "markdown",
   "metadata": {},
   "source": [
    "### _Linear Discriminant Analysis (LDA)_"
   ]
  },
  {
   "cell_type": "code",
   "execution_count": 41,
   "metadata": {},
   "outputs": [
    {
     "name": "stdout",
     "output_type": "stream",
     "text": [
      "              precision    recall  f1-score   support\n",
      "\n",
      "          -1       0.49      0.50      0.50       336\n",
      "           0       0.30      0.11      0.17       297\n",
      "           1       0.55      0.75      0.64       496\n",
      "\n",
      "    accuracy                           0.51      1129\n",
      "   macro avg       0.45      0.45      0.43      1129\n",
      "weighted avg       0.47      0.51      0.47      1129\n",
      "\n"
     ]
    },
    {
     "data": {
      "image/png": "[encoded data removed]",
      "text/plain": [
       "<Figure size 432x288 with 2 Axes>"
      ]
     },
     "metadata": {
      "needs_background": "light"
     },
     "output_type": "display_data"
    }
   ],
   "source": [
    "lda = LDA()\n",
    "lda.fit(X_train, y_train)\n",
    "y_lda = lda.predict(X_val)\n",
    "\n",
    "print(classification_report(y_val,y_lda))\n",
    "ConfusionMatrixDisplay.from_predictions(y_val,y_lda);"
   ]
  },
  {
   "cell_type": "markdown",
   "metadata": {},
   "source": [
    "### _Quadratic Discriminant Analysis (QDA)_"
   ]
  },
  {
   "cell_type": "code",
   "execution_count": 42,
   "metadata": {},
   "outputs": [
    {
     "name": "stdout",
     "output_type": "stream",
     "text": [
      "              precision    recall  f1-score   support\n",
      "\n",
      "          -1       0.37      0.32      0.34       336\n",
      "           0       0.30      0.57      0.40       297\n",
      "           1       0.52      0.30      0.38       496\n",
      "\n",
      "    accuracy                           0.38      1129\n",
      "   macro avg       0.40      0.40      0.37      1129\n",
      "weighted avg       0.42      0.38      0.37      1129\n",
      "\n"
     ]
    },
    {
     "name": "stderr",
     "output_type": "stream",
     "text": [
      "/Users/rafa/opt/anaconda3/lib/python3.9/site-packages/sklearn/discriminant_analysis.py:887: UserWarning: Variables are collinear\n",
      "  warnings.warn(\"Variables are collinear\")\n"
     ]
    },
    {
     "data": {
      "image/png": "[encoded data removed]",
      "text/plain": [
       "<Figure size 432x288 with 2 Axes>"
      ]
     },
     "metadata": {
      "needs_background": "light"
     },
     "output_type": "display_data"
    }
   ],
   "source": [
    "qda = QDA()\n",
    "qda.fit(X_train, y_train)\n",
    "y_qda = qda.predict(X_val)\n",
    "\n",
    "print(classification_report(y_val,y_qda))\n",
    "ConfusionMatrixDisplay.from_predictions(y_val,y_qda);"
   ]
  },
  {
   "cell_type": "markdown",
   "metadata": {},
   "source": [
    "### _Random Forest Classifier (RFC)_"
   ]
  },
  {
   "cell_type": "code",
   "execution_count": 43,
   "metadata": {},
   "outputs": [
    {
     "name": "stdout",
     "output_type": "stream",
     "text": [
      "              precision    recall  f1-score   support\n",
      "\n",
      "          -1       0.48      0.49      0.48       336\n",
      "           0       0.29      0.07      0.11       297\n",
      "           1       0.54      0.78      0.64       496\n",
      "\n",
      "    accuracy                           0.51      1129\n",
      "   macro avg       0.44      0.45      0.41      1129\n",
      "weighted avg       0.46      0.51      0.45      1129\n",
      "\n"
     ]
    },
    {
     "data": {
      "image/png": "[encoded data removed]",
      "text/plain": [
       "<Figure size 432x288 with 2 Axes>"
      ]
     },
     "metadata": {
      "needs_background": "light"
     },
     "output_type": "display_data"
    }
   ],
   "source": [
    "from sklearn.ensemble import RandomForestClassifier\n",
    "\n",
    "rfc = RandomForestClassifier()\n",
    "rfc.fit(X_train, y_train)\n",
    "y_rfc = rfc.predict(X_val)\n",
    "\n",
    "print(classification_report(y_val,y_rfc))\n",
    "ConfusionMatrixDisplay.from_predictions(y_val,y_rfc);"
   ]
  },
  {
   "cell_type": "markdown",
   "metadata": {},
   "source": [
    "### _Support Vector Classifier (SVC)_"
   ]
  },
  {
   "cell_type": "code",
   "execution_count": 44,
   "metadata": {},
   "outputs": [
    {
     "name": "stdout",
     "output_type": "stream",
     "text": [
      "              precision    recall  f1-score   support\n",
      "\n",
      "          -1       0.50      0.49      0.49       336\n",
      "           0       0.27      0.05      0.09       297\n",
      "           1       0.53      0.79      0.63       496\n",
      "\n",
      "    accuracy                           0.51      1129\n",
      "   macro avg       0.43      0.44      0.40      1129\n",
      "weighted avg       0.45      0.51      0.45      1129\n",
      "\n"
     ]
    },
    {
     "data": {
      "image/png": "[encoded data removed]",
      "text/plain": [
       "<Figure size 432x288 with 2 Axes>"
      ]
     },
     "metadata": {
      "needs_background": "light"
     },
     "output_type": "display_data"
    }
   ],
   "source": [
    "from sklearn.svm import SVC\n",
    "\n",
    "svc = SVC(kernel='rbf', random_state=random_state)\n",
    "svc.fit(X_train, y_train)\n",
    "y_svc = svc.predict(X_val)\n",
    "\n",
    "print(classification_report(y_val,y_svc))\n",
    "ConfusionMatrixDisplay.from_predictions(y_val,y_svc);"
   ]
  },
  {
   "cell_type": "markdown",
   "metadata": {},
   "source": [
    "### _Decision Tree Classifier_"
   ]
  },
  {
   "cell_type": "code",
   "execution_count": 45,
   "metadata": {},
   "outputs": [
    {
     "name": "stdout",
     "output_type": "stream",
     "text": [
      "              precision    recall  f1-score   support\n",
      "\n",
      "          -1       0.38      0.39      0.39       336\n",
      "           0       0.23      0.20      0.21       297\n",
      "           1       0.49      0.53      0.51       496\n",
      "\n",
      "    accuracy                           0.40      1129\n",
      "   macro avg       0.37      0.37      0.37      1129\n",
      "weighted avg       0.39      0.40      0.40      1129\n",
      "\n"
     ]
    },
    {
     "data": {
      "image/png": "[encoded data removed]",
      "text/plain": [
       "<Figure size 432x288 with 2 Axes>"
      ]
     },
     "metadata": {
      "needs_background": "light"
     },
     "output_type": "display_data"
    }
   ],
   "source": [
    "from sklearn.tree import DecisionTreeClassifier\n",
    "\n",
    "dtc = DecisionTreeClassifier(criterion='entropy', random_state=random_state)\n",
    "dtc.fit(X_train, y_train)\n",
    "y_dtc = dtc.predict(X_val)\n",
    "\n",
    "print(classification_report(y_val,y_dtc))\n",
    "ConfusionMatrixDisplay.from_predictions(y_val,y_dtc);"
   ]
  },
  {
   "cell_type": "markdown",
   "metadata": {},
   "source": [
    "### _Adaptive Boosting Classifier_"
   ]
  },
  {
   "cell_type": "code",
   "execution_count": 46,
   "metadata": {},
   "outputs": [
    {
     "name": "stdout",
     "output_type": "stream",
     "text": [
      "              precision    recall  f1-score   support\n",
      "\n",
      "          -1       0.46      0.52      0.49       336\n",
      "           0       0.25      0.04      0.07       297\n",
      "           1       0.53      0.75      0.62       496\n",
      "\n",
      "    accuracy                           0.50      1129\n",
      "   macro avg       0.41      0.44      0.39      1129\n",
      "weighted avg       0.44      0.50      0.44      1129\n",
      "\n"
     ]
    },
    {
     "data": {
      "image/png": "[encoded data removed]",
      "text/plain": [
       "<Figure size 432x288 with 2 Axes>"
      ]
     },
     "metadata": {
      "needs_background": "light"
     },
     "output_type": "display_data"
    }
   ],
   "source": [
    "from sklearn.ensemble import AdaBoostClassifier\n",
    "\n",
    "abc = AdaBoostClassifier()\n",
    "abc.fit(X_train, y_train)\n",
    "y_abc = abc.predict(X_val)\n",
    "\n",
    "print(classification_report(y_val,y_abc))\n",
    "ConfusionMatrixDisplay.from_predictions(y_val,y_abc);"
   ]
  },
  {
   "cell_type": "markdown",
   "metadata": {},
   "source": [
    "### _Multi-Layer Perceptron (MLP)_"
   ]
  },
  {
   "cell_type": "code",
   "execution_count": 47,
   "metadata": {},
   "outputs": [
    {
     "name": "stdout",
     "output_type": "stream",
     "text": [
      "              precision    recall  f1-score   support\n",
      "\n",
      "          -1       0.49      0.50      0.50       336\n",
      "           0       0.20      0.01      0.01       297\n",
      "           1       0.54      0.84      0.65       496\n",
      "\n",
      "    accuracy                           0.52      1129\n",
      "   macro avg       0.41      0.45      0.39      1129\n",
      "weighted avg       0.43      0.52      0.44      1129\n",
      "\n"
     ]
    },
    {
     "data": {
      "image/png": "[encoded data removed]",
      "text/plain": [
       "<Figure size 432x288 with 2 Axes>"
      ]
     },
     "metadata": {
      "needs_background": "light"
     },
     "output_type": "display_data"
    }
   ],
   "source": [
    "from sklearn.neural_network import MLPClassifier\n",
    "\n",
    "mlp = MLPClassifier(alpha=15, max_iter=1000000)\n",
    "mlp.fit(X_train, y_train)\n",
    "y_mlp = mlp.predict(X_val)\n",
    "\n",
    "print(classification_report(y_val,y_mlp))\n",
    "ConfusionMatrixDisplay.from_predictions(y_val,y_mlp);"
   ]
  },
  {
   "cell_type": "code",
   "execution_count": 48,
   "metadata": {},
   "outputs": [
    {
     "data": {
      "text/html": [
       "<div>\n",
       "<style scoped>\n",
       "    .dataframe tbody tr th:only-of-type {\n",
       "        vertical-align: middle;\n",
       "    }\n",
       "\n",
       "    .dataframe tbody tr th {\n",
       "        vertical-align: top;\n",
       "    }\n",
       "\n",
       "    .dataframe thead th {\n",
       "        text-align: right;\n",
       "    }\n",
       "</style>\n",
       "<table border=\"1\" class=\"dataframe\">\n",
       "  <thead>\n",
       "    <tr style=\"text-align: right;\">\n",
       "      <th></th>\n",
       "      <th>LR</th>\n",
       "      <th>NB</th>\n",
       "      <th>LDA</th>\n",
       "      <th>QDA</th>\n",
       "      <th>RFC</th>\n",
       "      <th>SVC</th>\n",
       "      <th>DTC</th>\n",
       "      <th>ABC</th>\n",
       "      <th>MLP</th>\n",
       "    </tr>\n",
       "  </thead>\n",
       "  <tbody>\n",
       "    <tr>\n",
       "      <th>0</th>\n",
       "      <td>0.513729</td>\n",
       "      <td>0.303809</td>\n",
       "      <td>0.508415</td>\n",
       "      <td>0.375554</td>\n",
       "      <td>0.507529</td>\n",
       "      <td>0.507529</td>\n",
       "      <td>0.40124</td>\n",
       "      <td>0.496014</td>\n",
       "      <td>0.519043</td>\n",
       "    </tr>\n",
       "  </tbody>\n",
       "</table>\n",
       "</div>"
      ],
      "text/plain": [
       "         LR        NB       LDA       QDA       RFC       SVC      DTC  \\\n",
       "0  0.513729  0.303809  0.508415  0.375554  0.507529  0.507529  0.40124   \n",
       "\n",
       "        ABC       MLP  \n",
       "0  0.496014  0.519043  "
      ]
     },
     "execution_count": 48,
     "metadata": {},
     "output_type": "execute_result"
    },
    {
     "data": {
      "image/png": "[encoded data removed]",
      "text/plain": [
       "<Figure size 648x360 with 1 Axes>"
      ]
     },
     "metadata": {
      "needs_background": "light"
     },
     "output_type": "display_data"
    }
   ],
   "source": [
    "# create a dictionary variable with keys being algorithms names and values being classification predictions\n",
    "results = dict(zip(['LR', 'NB', 'LDA', 'QDA', 'RFC', 'SVC', 'DTC', 'ABC', 'MLP'], \\\n",
    "                   [y_lr, y_nb, y_lda, y_qda, y_rfc, y_svc, y_dtc, y_abc, y_mlp]))\n",
    "\n",
    "# create a dictionary variable with keys being algorithm names and values being classification accuracy\n",
    "accuracy = {}\n",
    "for algorithm, prediction in results.items():\n",
    "    accuracy[algorithm] = accuracy_score(y_val, prediction)\n",
    "    \n",
    "accuracy = pd.DataFrame(data=accuracy, index=[0])\n",
    "ax = accuracy.T.plot.bar(\n",
    "    title='Algorithm comparison',\n",
    "    xlabel='Algorithm',\n",
    "    ylabel='Accuracy',\n",
    "    color='navy',\n",
    "    figsize=(9, 5),\n",
    "    legend=False,\n",
    ")\n",
    "ax.bar_label(ax.containers[0])\n",
    "\n",
    "accuracy"
   ]
  },
  {
   "cell_type": "markdown",
   "metadata": {},
   "source": [
    "### ROC Curve\n",
    "A Receiver Operating Characteristic curve (ROC curve) is a graphical plot of the true positive rate (TPR) against the false positive rate (FPR), using different threshold settings:"
   ]
  },
  {
   "cell_type": "code",
   "execution_count": 49,
   "metadata": {},
   "outputs": [],
   "source": [
    "# binarise output\n",
    "y_train_bin = label_binarize(y_train, classes=[-1, 0, 1])\n",
    "y_val_bin = label_binarize(y_val, classes=[-1, 0, 1])\n",
    "\n",
    "# learn to predict each class against the other, using MLP which was the most accurate model\n",
    "classifier = OneVsRestClassifier(MLPClassifier(alpha=15, max_iter=1000000))\n",
    "y_score = classifier.fit(X_train, y_train_bin).predict_proba(X_val)\n",
    "\n",
    "# compute ROC curve and area for each class\n",
    "fpr = dict()\n",
    "tpr = dict()\n",
    "roc_auc = dict()\n",
    "for i in [-1, 0, 1]:\n",
    "    fpr[i], tpr[i], _ = roc_curve(y_val_bin[:, i], y_score[:, i])\n",
    "    roc_auc[i] = auc(fpr[i], tpr[i])"
   ]
  },
  {
   "cell_type": "markdown",
   "metadata": {},
   "source": [
    "We now proceed to compute and plot the micro and macro averages."
   ]
  },
  {
   "cell_type": "code",
   "execution_count": 50,
   "metadata": {},
   "outputs": [],
   "source": [
    "# aggregate all false positive rates\n",
    "all_fpr = np.unique(np.concatenate([fpr[i] for i in [-1, 0, 1]]))\n",
    "\n",
    "# Then interpolate all ROC curves at this points\n",
    "mean_tpr = np.zeros_like(all_fpr)\n",
    "for i in [-1, 0, 1]:\n",
    "    mean_tpr += np.interp(all_fpr, fpr[i], tpr[i])\n",
    "\n",
    "# Finally average it and compute AUC\n",
    "mean_tpr /= 3\n",
    "\n",
    "fpr[\"macro\"] = all_fpr\n",
    "tpr[\"macro\"] = mean_tpr\n",
    "roc_auc[\"macro\"] = auc(fpr[\"macro\"], tpr[\"macro\"])\n",
    "\n",
    "# micro-average ROC curve and ROC area\n",
    "fpr[\"micro\"], tpr[\"micro\"], _ = roc_curve(y_val_bin.ravel(), y_score.ravel())\n",
    "roc_auc[\"micro\"] = auc(fpr[\"micro\"], tpr[\"micro\"])"
   ]
  },
  {
   "cell_type": "code",
   "execution_count": 51,
   "metadata": {},
   "outputs": [
    {
     "data": {
      "image/png": "[encoded data removed]",
      "text/plain": [
       "<Figure size 432x288 with 1 Axes>"
      ]
     },
     "metadata": {
      "needs_background": "light"
     },
     "output_type": "display_data"
    }
   ],
   "source": [
    "# plotting results   \n",
    "plt.figure()\n",
    "\n",
    "# curves for each class\n",
    "plt.plot(\n",
    "    fpr[-1],\n",
    "    tpr[-1],\n",
    "    color='tomato',\n",
    "    label='ROC curve of class {0} (area = {1:0.2f})'.format(-1, roc_auc[-1]),\n",
    ")\n",
    "plt.plot(\n",
    "    fpr[0],\n",
    "    tpr[0],\n",
    "    color='royalblue',\n",
    "    label='ROC curve of class {0} (area = {1:0.2f})'.format(0, roc_auc[0]),\n",
    ")\n",
    "plt.plot(\n",
    "    fpr[1],\n",
    "    tpr[1],\n",
    "    color='forestgreen',\n",
    "    label='ROC curve of class {0} (area = {1:0.2f})'.format(1, roc_auc[1]),\n",
    ")\n",
    "\n",
    "# curves for micro and macro averages\n",
    "plt.plot(\n",
    "    fpr[\"micro\"],\n",
    "    tpr[\"micro\"],\n",
    "    label=\"micro-average ROC curve (area = {0:0.2f})\".format(roc_auc[\"micro\"]),\n",
    "    color=\"slategrey\",\n",
    "    linestyle=\"--\",\n",
    ")\n",
    "plt.plot(\n",
    "    fpr[\"macro\"],\n",
    "    tpr[\"macro\"],\n",
    "    label=\"macro-average ROC curve (area = {0:0.2f})\".format(roc_auc[\"macro\"]),\n",
    "    color=\"darkorchid\",\n",
    "    linestyle=\"--\",\n",
    ")\n",
    "\n",
    "plt.plot([0, 1], [0, 1], 'k--')\n",
    "plt.xlim([0.0, 1.0])\n",
    "plt.ylim([0.0, 1.05])\n",
    "plt.xlabel('False Positive Rate')\n",
    "plt.ylabel('True Positive Rate')\n",
    "plt.title('ROC curve')\n",
    "plt.legend(loc='lower right')\n",
    "plt.show()"
   ]
  },
  {
   "cell_type": "code",
   "execution_count": null,
   "metadata": {},
   "outputs": [],
   "source": []
  },
  {
   "cell_type": "code",
   "execution_count": null,
   "metadata": {},
   "outputs": [],
   "source": []
  },
  {
   "cell_type": "code",
   "execution_count": null,
   "metadata": {},
   "outputs": [],
   "source": []
  },
  {
   "cell_type": "code",
   "execution_count": null,
   "metadata": {},
   "outputs": [],
   "source": []
  },
  {
   "cell_type": "code",
   "execution_count": null,
   "metadata": {},
   "outputs": [],
   "source": []
  },
  {
   "cell_type": "markdown",
   "metadata": {
    "collapsed": true
   },
   "source": [
    "# [END PROJECT]"
   ]
  }
 ],
 "metadata": {
  "kernelspec": {
   "display_name": "Python 3 (ipykernel)",
   "language": "python",
   "name": "python3"
  },
  "language_info": {
   "codemirror_mode": {
    "name": "ipython",
    "version": 3
   },
   "file_extension": ".py",
   "mimetype": "text/x-python",
   "name": "python",
   "nbconvert_exporter": "python",
   "pygments_lexer": "ipython3",
   "version": "3.9.7"
  }
 },
 "nbformat": 4,
 "nbformat_minor": 1
}
